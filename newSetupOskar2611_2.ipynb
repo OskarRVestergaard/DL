{
  "cells": [
    {
      "cell_type": "code",
      "execution_count": 1,
      "metadata": {
        "id": "ywZ6aJyNoN7L"
      },
      "outputs": [
        {
          "name": "stderr",
          "output_type": "stream",
          "text": [
            "2023-11-27 13:21:49.722621: E tensorflow/compiler/xla/stream_executor/cuda/cuda_dnn.cc:9342] Unable to register cuDNN factory: Attempting to register factory for plugin cuDNN when one has already been registered\n",
            "2023-11-27 13:21:49.722687: E tensorflow/compiler/xla/stream_executor/cuda/cuda_fft.cc:609] Unable to register cuFFT factory: Attempting to register factory for plugin cuFFT when one has already been registered\n",
            "2023-11-27 13:21:49.724087: E tensorflow/compiler/xla/stream_executor/cuda/cuda_blas.cc:1518] Unable to register cuBLAS factory: Attempting to register factory for plugin cuBLAS when one has already been registered\n",
            "2023-11-27 13:21:49.855139: I tensorflow/core/platform/cpu_feature_guard.cc:182] This TensorFlow binary is optimized to use available CPU instructions in performance-critical operations.\n",
            "To enable the following instructions: AVX2 FMA, in other operations, rebuild TensorFlow with the appropriate compiler flags.\n"
          ]
        }
      ],
      "source": [
        "from os import environ, path\n",
        "from absl import logging as absl_logging\n",
        "from IPython.display import clear_output\n",
        "from tensorflow import keras\n",
        "import tensorflow as tf\n",
        "from sklearn.model_selection import ParameterSampler\n",
        "import os\n",
        "from pathlib import Path\n",
        "from glob import glob\n",
        "import numpy as np\n",
        "from tensorflow.keras import layers\n",
        "import matplotlib.pyplot as plt\n",
        "import cv2\n",
        "# import keras_c"
      ]
    },
    {
      "cell_type": "code",
      "execution_count": 2,
      "metadata": {
        "id": "u4it3O-QpmR8"
      },
      "outputs": [],
      "source": [
        "##Variables\n",
        "IMAGE_SIZE = 128\n",
        "BATCH_SIZE = 8\n",
        "NUM_CLASSES = 104\n",
        "LEARNING_RATE=0.002\n",
        "WEIGHT_DECAY=0.0001\n",
        "MOMENTUM=0.9\n",
        "CLIPNORM=10.0\n",
        "\n",
        "\n",
        "EPOCHS=25"
      ]
    },
    {
      "cell_type": "code",
      "execution_count": 18,
      "metadata": {
        "colab": {
          "base_uri": "https://localhost:8080/"
        },
        "id": "6Fsy1-aEo-ah",
        "outputId": "25bae9f1-f730-44fe-d27f-2702517ec79f"
      },
      "outputs": [
        {
          "name": "stdout",
          "output_type": "stream",
          "text": [
            "Models folder already exists\n"
          ]
        }
      ],
      "source": [
        "if os.getenv(\"COLAB_RELEASE_TAG\"):\n",
        "    isInColab = True\n",
        "else:\n",
        "    isInColab = False\n",
        "\n",
        "if isInColab:\n",
        "    from google.colab import drive\n",
        "    drive.mount('/content/gdrive')\n",
        "    data_folder_path = Path(os.getcwd() + r\"/gdrive/My Drive/FoodSeg103/Images\")\n",
        "    models_path = Path(os.getcwd() + r\"/gdrive/My Drive/Models\")\n",
        "else:\n",
        "    data_folder_path = Path(os.getcwd()+ r\"/Dataset/FoodSeg103/Images\")\n",
        "    models_path = Path(os.getcwd() + r\"/Models\")\n",
        "try:\n",
        "    os.mkdir(models_path)\n",
        "    print(\"Models folder created for saving models\")\n",
        "except:\n",
        "    print(\"Models folder already exists\")\n"
      ]
    },
    {
      "cell_type": "code",
      "execution_count": 37,
      "metadata": {
        "id": "f18zrsLPp2We"
      },
      "outputs": [],
      "source": [
        "##Data loading\n",
        "def load_images_combined(NUM_TRAIN_IMAGES, NUM_VAL_IMAGES):\n",
        "    train_images_path = os.path.join(data_folder_path, r\"img_dir/train\")\n",
        "    train_ann_path = os.path.join(data_folder_path, r\"ann_dir/train\")\n",
        "    test_images_path = os.path.join(data_folder_path, r\"img_dir/test\")\n",
        "    test_ann_path = os.path.join(data_folder_path, r\"ann_dir/test\")\n",
        "    train_images_paths = sorted(os.listdir(train_images_path))\n",
        "    train_ann_paths = sorted(os.listdir(train_ann_path))\n",
        "    test_images_paths = sorted(os.listdir(test_images_path))\n",
        "    test_ann_paths = sorted(os.listdir(test_ann_path))\n",
        "\n",
        "    train_images = train_images_paths[:NUM_TRAIN_IMAGES]\n",
        "    train_masks = train_ann_paths[:NUM_TRAIN_IMAGES]\n",
        "    val_images = test_images_paths[:NUM_VAL_IMAGES]\n",
        "    val_masks = test_ann_paths[:NUM_VAL_IMAGES]\n",
        "\n",
        "    train_images = [str(os.path.join(train_images_path, img)) for img in train_images]\n",
        "    train_masks = [str(os.path.join(train_ann_path, img)) for img in train_masks]\n",
        "    val_images = [str(os.path.join(test_images_path, img)) for img in val_images]\n",
        "    val_masks = [str(os.path.join(test_ann_path, img)) for img in val_masks]\n",
        "\n",
        "    image_paths=train_images+val_images\n",
        "    mask_paths=train_masks+val_masks\n",
        "    image_paths.sort()\n",
        "    mask_paths.sort()\n",
        "    # images={\n",
        "    #     \"image\": train_images+val_images,\n",
        "    #     \"masks\": train_masks+val_masks\n",
        "    # }\n",
        "    return image_paths, mask_paths\n",
        "\n",
        "image_paths, mask_paths = load_images_combined(4983, 2135)\n",
        "# dataset = tf.data.Dataset.from_tensor_slices((images['image'], images['masks']))\n"
      ]
    },
    {
      "cell_type": "code",
      "execution_count": 45,
      "metadata": {
        "id": "HZP_MO4vFrOY"
      },
      "outputs": [],
      "source": [
        "from keras.preprocessing.image import ImageDataGenerator\n",
        "from sklearn.model_selection import train_test_split\n",
        "from keras.utils import Sequence\n",
        "from keras.utils import to_categorical\n",
        "import numpy as np\n",
        "from PIL import Image\n",
        "\n",
        "class CustomDataGenerator(Sequence):\n",
        "    def __init__(self, image_paths, mask_paths, batch_size, validation_split=0.2):\n",
        "        self.image_paths = image_paths\n",
        "        self.mask_paths = mask_paths\n",
        "        self.batch_size = batch_size\n",
        "        self.validation_split = validation_split\n",
        "        self.on_epoch_end()\n",
        "\n",
        "    def on_epoch_end(self):\n",
        "        # Split the data into training and validation sets\n",
        "        self.train_image_paths, self.val_image_paths, self.train_mask_paths, self.val_mask_paths = \\\n",
        "            train_test_split(self.image_paths, self.mask_paths, test_size=self.validation_split, random_state=42)\n",
        "\n",
        "    def __len__(self):\n",
        "        return int(np.ceil(len(self.train_image_paths) / self.batch_size))\n",
        "\n",
        "    def __getitem__(self, index):\n",
        "        start = index * self.batch_size\n",
        "        end = (index + 1) * self.batch_size\n",
        "        batch_x, batch_y = self.load_data(start, end)\n",
        "\n",
        "        # Optionally repeat the dataset\n",
        "        if end == len(self.train_image_paths):\n",
        "            self.on_epoch_end()  # Reset at the end of an epoch\n",
        "\n",
        "        return batch_x, batch_y\n",
        "        \n",
        "        # start = index * self.batch_size\n",
        "        # end = (index + 1) * self.batch_size\n",
        "        # batch_x, batch_y = self.load_data(start, end)\n",
        "        # return batch_x, batch_y\n",
        "\n",
        "    def load_data(self, start, end):\n",
        "        # Load and preprocess data\n",
        "        batch_x = []\n",
        "        batch_y = []\n",
        "        paths = self.train_image_paths  # Use training paths during training\n",
        "        # max_pixel_value = 0\n",
        "        for i in range(start, min(end, len(self.image_paths))):\n",
        "            # Load and preprocess image\n",
        "            img_img = tf.io.read_file(self.image_paths[i])\n",
        "            img = tf.image.decode_png(img_img, channels=3)\n",
        "            img.set_shape([None, None, 3])\n",
        "            img = tf.image.resize(images=img, size=[IMAGE_SIZE, IMAGE_SIZE])\n",
        "            img = tf.keras.applications.resnet50.preprocess_input(img)\n",
        "            batch_x.append(img)\n",
        "\n",
        "            # Load and preprocess mask\n",
        "            mask_img = tf.io.read_file(self.mask_paths[i])\n",
        "            mask = tf.image.decode_png(mask_img, channels=1)\n",
        "            mask.set_shape([None, None, 1])\n",
        "            mask = tf.image.resize(images=mask, size=[IMAGE_SIZE, IMAGE_SIZE], method='nearest')\n",
        "            one_hot_mask=to_categorical(mask,num_classes=NUM_CLASSES)\n",
        "            # max_value_in_image = np.max(mask)\n",
        "            # max_pixel_value = max(max_pixel_value, max_value_in_image)\n",
        "            batch_y.append(one_hot_mask)\n",
        "        # print(\"Overall Maximum Pixel Value:\", max_pixel_value)\n",
        "        return np.array(batch_x), np.array(batch_y)\n",
        "\n",
        "\n",
        "train_image_paths, val_image_paths, train_mask_paths, val_mask_paths = train_test_split(\n",
        "    image_paths, mask_paths, test_size=0.2)\n",
        "\n",
        "# Create instances of your custom data generator for training and validation\n",
        "train_data_generator = CustomDataGenerator(train_image_paths, train_mask_paths, batch_size=BATCH_SIZE)\n",
        "val_data_generator = CustomDataGenerator(val_image_paths, val_mask_paths,  batch_size=BATCH_SIZE)\n",
        "\n",
        "# data_generator = CustomDataGenerator(image_paths, mask_paths)"
      ]
    },
    {
      "cell_type": "code",
      "execution_count": 46,
      "metadata": {
        "id": "S3BRyPJPFrEw"
      },
      "outputs": [],
      "source": [
        "##The model\n",
        "def convolution_block(\n",
        "    block_input,\n",
        "    num_filters=256,\n",
        "    kernel_size=3,\n",
        "    dilation_rate=1,\n",
        "    padding=\"same\",\n",
        "    use_bias=False,\n",
        "):\n",
        "    x = layers.Conv2D(\n",
        "        num_filters,\n",
        "        kernel_size=kernel_size,\n",
        "        dilation_rate=dilation_rate,\n",
        "        padding=\"same\",\n",
        "        use_bias=use_bias,\n",
        "        kernel_initializer=keras.initializers.HeNormal(),\n",
        "    )(block_input)\n",
        "    x = layers.BatchNormalization()(x)\n",
        "    return tf.nn.relu(x)\n",
        "\n",
        "\n",
        "def DilatedSpatialPyramidPooling(dspp_input):\n",
        "    dims = dspp_input.shape\n",
        "    x = layers.AveragePooling2D(pool_size=(dims[-3], dims[-2]))(dspp_input)\n",
        "    x = convolution_block(x, kernel_size=1, use_bias=True)\n",
        "    out_pool = layers.UpSampling2D(\n",
        "        size=(dims[-3] // x.shape[1], dims[-2] // x.shape[2]), interpolation=\"bilinear\",\n",
        "    )(x)\n",
        "\n",
        "    out_1 = convolution_block(dspp_input, kernel_size=1, dilation_rate=1)\n",
        "    out_6 = convolution_block(dspp_input, kernel_size=3, dilation_rate=6)\n",
        "    out_12 = convolution_block(dspp_input, kernel_size=3, dilation_rate=12)\n",
        "    out_18 = convolution_block(dspp_input, kernel_size=3, dilation_rate=18)\n",
        "\n",
        "    x = layers.Concatenate(axis=-1)([out_pool, out_1, out_6, out_12, out_18])\n",
        "    output = convolution_block(x, kernel_size=1)\n",
        "    return output\n",
        "\n",
        "def DeeplabV3Plus(image_size, num_classes):\n",
        "    model_input = keras.Input(shape=(image_size, image_size, 3))\n",
        "    resnet50 = keras.applications.ResNet50(\n",
        "        weights=\"imagenet\", include_top=False, input_tensor=model_input\n",
        "    )\n",
        "    x = resnet50.get_layer(\"conv4_block6_2_relu\").output\n",
        "    x = DilatedSpatialPyramidPooling(x)\n",
        "\n",
        "    input_a = layers.UpSampling2D(\n",
        "        size=(image_size // 4 // x.shape[1], image_size // 4 // x.shape[2]),\n",
        "        interpolation=\"bilinear\",\n",
        "    )(x)\n",
        "    input_b = resnet50.get_layer(\"conv2_block3_2_relu\").output\n",
        "    input_b = convolution_block(input_b, num_filters=48, kernel_size=1)\n",
        "\n",
        "    x = layers.Concatenate(axis=-1)([input_a, input_b])\n",
        "    x = convolution_block(x)\n",
        "    x = convolution_block(x)\n",
        "    x = layers.UpSampling2D(\n",
        "        size=(image_size // x.shape[1], image_size // x.shape[2]),\n",
        "        interpolation=\"bilinear\",\n",
        "    )(x)\n",
        "    model_output = layers.Conv2D(num_classes, kernel_size=(1, 1), padding=\"same\", kernel_initializer=keras.initializers.HeNormal())(x)\n",
        "    # model_output = layers.Conv2D(num_classes, kernel_size=(1, 1), padding=\"same\")(x)\n",
        "    # Adjust the number of output channels to match the number of classes\n",
        "    x_out = layers.Conv2D(104, (1, 1), activation='softmax')(x)\n",
        "\n",
        "    # Use a Reshape layer to match the output shape to (height, width, num_classes)\n",
        "    x_out = layers.Reshape((image_size, image_size, 104))(x_out)\n",
        "\n",
        "\n",
        "    return keras.Model(inputs=model_input, outputs=x_out)\n",
        "\n"
      ]
    },
    {
      "cell_type": "code",
      "execution_count": 55,
      "metadata": {},
      "outputs": [
        {
          "name": "stdout",
          "output_type": "stream",
          "text": [
            "5694\n",
            "1424\n",
            "711\n",
            "178\n",
            "711\n"
          ]
        }
      ],
      "source": [
        "print(len(train_image_paths))\n",
        "print(len(val_image_paths))\n",
        "\n",
        "1424 + 5694\n",
        "print(len(train_image_paths) // BATCH_SIZE)\n",
        "print(len(val_image_paths) // BATCH_SIZE)\n",
        "print(17775 // 25)"
      ]
    },
    {
      "cell_type": "code",
      "execution_count": 24,
      "metadata": {
        "colab": {
          "base_uri": "https://localhost:8080/"
        },
        "id": "qAGi5Z2SO8Jw",
        "outputId": "b99c52f7-2911-4e58-e6b2-c6c91210f973"
      },
      "outputs": [
        {
          "name": "stdout",
          "output_type": "stream",
          "text": [
            "Epoch 1/25\n",
            "570/711 [=======================>......] - ETA: 28s - loss: 2.1343 - one_hot_mean_io_u_1: 0.0258 - categorical_accuracy: 0.5350"
          ]
        },
        {
          "name": "stderr",
          "output_type": "stream",
          "text": [
            "2023-11-27 13:35:35.582057: I tensorflow/core/framework/local_rendezvous.cc:421] Local rendezvous recv item cancelled. Key hash: 12094384989605534130\n",
            "2023-11-27 13:35:35.582119: I tensorflow/core/framework/local_rendezvous.cc:421] Local rendezvous recv item cancelled. Key hash: 17014484570836317922\n",
            "2023-11-27 13:35:35.582129: I tensorflow/core/framework/local_rendezvous.cc:421] Local rendezvous recv item cancelled. Key hash: 10197571004204363545\n",
            "2023-11-27 13:35:35.582135: I tensorflow/core/framework/local_rendezvous.cc:421] Local rendezvous recv item cancelled. Key hash: 14637221559000373045\n"
          ]
        },
        {
          "name": "stdout",
          "output_type": "stream",
          "text": [
            "WARNING:tensorflow:Your input ran out of data; interrupting training. Make sure that your dataset or generator can generate at least `steps_per_epoch * epochs` batches (in this case, 17775 batches). You may need to use the repeat() function when building your dataset.\n",
            "WARNING:tensorflow:Your input ran out of data; interrupting training. Make sure that your dataset or generator can generate at least `steps_per_epoch * epochs` batches (in this case, 178 batches). You may need to use the repeat() function when building your dataset.\n",
            "711/711 [==============================] - 157s 198ms/step - loss: 2.1343 - one_hot_mean_io_u_1: 0.0258 - categorical_accuracy: 0.5350 - val_loss: 1.6944 - val_one_hot_mean_io_u_1: 0.0548 - val_categorical_accuracy: 0.5987\n"
          ]
        },
        {
          "name": "stderr",
          "output_type": "stream",
          "text": [
            "2023-11-27 13:36:00.846802: I tensorflow/core/framework/local_rendezvous.cc:421] Local rendezvous recv item cancelled. Key hash: 5633156238226856114\n",
            "2023-11-27 13:36:00.846864: I tensorflow/core/framework/local_rendezvous.cc:421] Local rendezvous recv item cancelled. Key hash: 13243949958192383302\n",
            "2023-11-27 13:36:00.846871: I tensorflow/core/framework/local_rendezvous.cc:421] Local rendezvous recv item cancelled. Key hash: 140480356009411277\n",
            "2023-11-27 13:36:00.846875: I tensorflow/core/framework/local_rendezvous.cc:421] Local rendezvous recv item cancelled. Key hash: 17241032318158015599\n"
          ]
        }
      ],
      "source": [
        "model=DeeplabV3Plus(image_size=IMAGE_SIZE, num_classes=NUM_CLASSES)\n",
        "model.compile(\n",
        "    optimizer=keras.optimizers.SGD(learning_rate=0.002, weight_decay=0.0001, momentum=0.9, clipnorm=10.0),\n",
        "      loss=keras.losses.CategoricalCrossentropy(from_logits=False),\n",
        "      metrics=[\n",
        "          keras.metrics.OneHotMeanIoU(num_classes=NUM_CLASSES, ignore_class=0),\n",
        "          keras.metrics.CategoricalAccuracy(),\n",
        "      ])\n",
        "history = model.fit(\n",
        "    train_data_generator,\n",
        "    steps_per_epoch=len(train_image_paths)//BATCH_SIZE,\n",
        "    # steps_per_epoch=500,\n",
        "    epochs=EPOCHS,\n",
        "    validation_data=val_data_generator,\n",
        "    validation_steps=len(val_image_paths)//BATCH_SIZE\n",
        "    # validation_steps=125\n",
        "    )"
      ]
    },
    {
      "cell_type": "code",
      "execution_count": 68,
      "metadata": {},
      "outputs": [],
      "source": [
        "from datetime import datetime\n",
        "def saveModel(model, history):\n",
        "    dt_string = datetime.now().strftime(\"%d%m%Y-%H:%M:%S\")\n",
        "    save_name = \"model_\" + dt_string\n",
        "    folder_save_path = os.path.join(models_path, Path(save_name))\n",
        "    os.mkdir(folder_save_path)\n",
        "    his_save_path = os.path.join(folder_save_path, Path(r\"history.npy\"))\n",
        "    model_save_path = os.path.join(folder_save_path, Path(r\"model.keras\"))\n",
        "    np.save(his_save_path,history)\n",
        "    model.save(model_save_path)\n",
        "\n",
        "saveModel(model, history)"
      ]
    },
    {
      "cell_type": "code",
      "execution_count": 27,
      "metadata": {
        "id": "bmj8XoYcO8HM"
      },
      "outputs": [],
      "source": [
        "class_labels={0:'background',1:'candy',2:'egg tart',3:'french fries',4:'chocolate',5:'biscuit',6:'popcorn',7:'pudding',8:'ice cream',9:'cheese butter',10:'cake',11:'wine',12:'milkshake',13:'coffee',14:'juice',15:'milk',16:'tea',17:'almond',18:'red beans',19:'cashew',20:'dried cranberries',21:'soy',22:'walnut',23:'peanut',24:'egg',25:'apple',26:'date',27:'apricot',28:'avocado',29:'banana',30:'strawberry',31:'cherry',32:'blueberry',33:'raspberry',34:'mango',35:'olives',36:'peach',37:'lemon',38:'pear',39:'fig',40:'pineapple',41:'grape',42:'kiwi',43:'melon',44:'orange',45:'watermelon',46:'steak',47:'pork',48:'chicken duck',49:'sausage',50:'fried meat',51:'lamb',52:'sauce',53:'crab',54:'fish',55:'shellfish',56:'shrimp',57:'soup',58:'bread',59:'corn',60:'hamburg',61:'pizza',62:' hanamaki baozi',63:'wonton dumplings',64:'pasta',65:'noodles',66:'rice',67:'pie',68:'tofu',69:'eggplant',70:'potato',71:'garlic',72:'cauliflower',73:'tomato',74:'kelp',75:'seaweed',76:'spring onion',77:'rape',78:'ginger',79:'okra',80:'lettuce',81:'pumpkin',82:'cucumber',83:'white radish',84:'carrot',85:'asparagus',86:'bamboo shoots',87:'broccoli',88:'celery stick',89:'cilantro mint',90:'snow peas',91:' cabbage',92:'bean sprouts',93:'onion',94:'pepper',95:'green beans',96:'French beans',97:'king oyster mushroom',98:'shiitake',99:'enoki mushroom',100:'oyster mushroom',101:'white button mushroom',102:'salad',103:'other ingredients'}\n",
        "\n",
        "def predict(model, images, index, useTrainingImages):\n",
        "    ImageIndex = index\n",
        "\n",
        "    if useTrainingImages:\n",
        "      img_path = images[\"train_images\"][ImageIndex]\n",
        "      ann_path = images[\"train_masks\"][ImageIndex]\n",
        "    else:\n",
        "      img_path = images[\"val_images\"][ImageIndex]\n",
        "      ann_path = images[\"val_masks\"][ImageIndex]\n",
        "\n",
        "    processed_image = read_image(img_path)[None,:,:,:]\n",
        "    result = model.predict(processed_image)\n",
        "    result = result.squeeze()\n",
        "    return result\n",
        "\n",
        "\n",
        "def plot_images_withLegends(image_number):\n",
        "  image = cv2.resize(cv2.cvtColor(cv2.imread(val_image_paths[image_number]), cv2.COLOR_BGR2RGB), dsize=(256, 256), interpolation=cv2.INTER_CUBIC)\n",
        "  mask_img = tf.io.read_file(val_mask_paths[image_number])\n",
        "  # mask = read_image(val_mask_paths[image_number])\n",
        "  mask = tf.image.decode_png(mask_img, channels=1)\n",
        "  mask.set_shape([None, None, 1])\n",
        "  mask = tf.image.resize(images=mask, size=[IMAGE_SIZE, IMAGE_SIZE], method='nearest')\n",
        "  one_hot_mask=to_categorical(mask,num_classes=NUM_CLASSES)\n",
        "  prediction=  predict(model, images, image_number, True)\n",
        "\n",
        "  colormap = plt.cm.get_cmap('viridis', len(class_labels))  # Use the number of unique classes\n",
        "  # Convert RGB to grayscale if needed\n",
        "  if len(mask.shape) == 3:\n",
        "      mask = np.mean(mask, axis=-1)\n",
        "\n",
        "  # Convert selected channel to grayscale\n",
        "  predicted_classes = prediction.argmax(axis=-1)\n",
        "\n",
        "# Get unique class indices present in the image\n",
        "  unique_classes = np.unique(predicted_classes)\n",
        "\n",
        "  # Convert to RGB using the colormap\n",
        "  rgb_image = colormap(predicted_classes)[:, :, :3]\n",
        "\n",
        "  # Convert RGB to grayscale\n",
        "  gray_image = np.mean(rgb_image, axis=-1)\n",
        "\n",
        "  # Display the result with dynamic legend\n",
        "  fig, axes = plt.subplots(1, 3, figsize=(15, 5))\n",
        "\n",
        "  # Display the normal image with colors\n",
        "  axes[0].imshow(image, cmap='viridis')\n",
        "  axes[0].axis('off')\n",
        "  axes[0].set_title('Normal Image')\n",
        "\n",
        "  # Display the mask image as grayscale\n",
        "  axes[1].imshow(mask, cmap='gray')\n",
        "  axes[1].axis('off')\n",
        "  axes[1].set_title('Mask Image (Grayscale)')\n",
        "\n",
        "  # Display the prediction image for the selected class as grayscale\n",
        "  axes[2].imshow(gray_image, cmap='gray')\n",
        "  axes[2].axis('off')\n",
        "  axes[2].set_title(f'Prediction (Grayscale) for Class')\n",
        "\n",
        "  # Create a dynamic legend for unique classes in the prediction image\n",
        "  colormapLegend = plt.cm.get_cmap('gray', 104)\n",
        "  unique_classes = np.unique(predicted_classes)\n",
        "  # legend_elements = [plt.Line2D([0], [0], marker='o', color='w', markerfacecolor='gray', markersize=10, label=class_labels[int(j)]) for j in range(len(unique_classes))]\n",
        "  legend_elements = [plt.Line2D([0], [0], marker='o', color='w', markerfacecolor=colormapLegend(i)[:3], markersize=10, label=class_labels[i]) for i in unique_classes]\n",
        "  ax_inset = axes[2].inset_axes([1.05, 0, 0.2, 1])\n",
        "  ax_inset.legend(handles=legend_elements, loc='center', bbox_to_anchor=(0, 0.5))\n",
        "  ax_inset.axis('off')\n",
        "\n",
        "\n",
        "  plt.show()"
      ]
    },
    {
      "cell_type": "code",
      "execution_count": 26,
      "metadata": {
        "colab": {
          "base_uri": "https://localhost:8080/",
          "height": 309
        },
        "id": "zQ6X3OjBO8EV",
        "outputId": "1a21d7a2-2d47-4c26-a188-e35068f2d1f6"
      },
      "outputs": [
        {
          "ename": "NameError",
          "evalue": "ignored",
          "output_type": "error",
          "traceback": [
            "\u001b[0;31m---------------------------------------------------------------------------\u001b[0m",
            "\u001b[0;31mNameError\u001b[0m                                 Traceback (most recent call last)",
            "\u001b[0;32m<ipython-input-26-c639928e90d2>\u001b[0m in \u001b[0;36m<cell line: 1>\u001b[0;34m()\u001b[0m\n\u001b[0;32m----> 1\u001b[0;31m \u001b[0mplot_images_withLegends\u001b[0m\u001b[0;34m(\u001b[0m\u001b[0;36m5\u001b[0m\u001b[0;34m)\u001b[0m\u001b[0;34m\u001b[0m\u001b[0;34m\u001b[0m\u001b[0m\n\u001b[0m",
            "\u001b[0;32m<ipython-input-25-33bdbc5517d3>\u001b[0m in \u001b[0;36mplot_images_withLegends\u001b[0;34m(image_number)\u001b[0m\n\u001b[1;32m      7\u001b[0m   \u001b[0mmask\u001b[0m \u001b[0;34m=\u001b[0m \u001b[0mtf\u001b[0m\u001b[0;34m.\u001b[0m\u001b[0mimage\u001b[0m\u001b[0;34m.\u001b[0m\u001b[0mresize\u001b[0m\u001b[0;34m(\u001b[0m\u001b[0mimages\u001b[0m\u001b[0;34m=\u001b[0m\u001b[0mmask\u001b[0m\u001b[0;34m,\u001b[0m \u001b[0msize\u001b[0m\u001b[0;34m=\u001b[0m\u001b[0;34m[\u001b[0m\u001b[0mIMAGE_SIZE\u001b[0m\u001b[0;34m,\u001b[0m \u001b[0mIMAGE_SIZE\u001b[0m\u001b[0;34m]\u001b[0m\u001b[0;34m,\u001b[0m \u001b[0mmethod\u001b[0m\u001b[0;34m=\u001b[0m\u001b[0;34m'nearest'\u001b[0m\u001b[0;34m)\u001b[0m\u001b[0;34m\u001b[0m\u001b[0;34m\u001b[0m\u001b[0m\n\u001b[1;32m      8\u001b[0m   \u001b[0mone_hot_mask\u001b[0m\u001b[0;34m=\u001b[0m\u001b[0mto_categorical\u001b[0m\u001b[0;34m(\u001b[0m\u001b[0mmask\u001b[0m\u001b[0;34m,\u001b[0m\u001b[0mnum_classes\u001b[0m\u001b[0;34m=\u001b[0m\u001b[0mNUM_CLASSES\u001b[0m\u001b[0;34m)\u001b[0m\u001b[0;34m\u001b[0m\u001b[0;34m\u001b[0m\u001b[0m\n\u001b[0;32m----> 9\u001b[0;31m   \u001b[0mprediction\u001b[0m\u001b[0;34m=\u001b[0m  \u001b[0mpredict\u001b[0m\u001b[0;34m(\u001b[0m\u001b[0mmodel\u001b[0m\u001b[0;34m,\u001b[0m \u001b[0mimages\u001b[0m\u001b[0;34m,\u001b[0m \u001b[0mimage_number\u001b[0m\u001b[0;34m,\u001b[0m \u001b[0;32mTrue\u001b[0m\u001b[0;34m)\u001b[0m\u001b[0;34m\u001b[0m\u001b[0;34m\u001b[0m\u001b[0m\n\u001b[0m\u001b[1;32m     10\u001b[0m \u001b[0;34m\u001b[0m\u001b[0m\n\u001b[1;32m     11\u001b[0m   \u001b[0mcolormap\u001b[0m \u001b[0;34m=\u001b[0m \u001b[0mplt\u001b[0m\u001b[0;34m.\u001b[0m\u001b[0mcm\u001b[0m\u001b[0;34m.\u001b[0m\u001b[0mget_cmap\u001b[0m\u001b[0;34m(\u001b[0m\u001b[0;34m'viridis'\u001b[0m\u001b[0;34m,\u001b[0m \u001b[0mlen\u001b[0m\u001b[0;34m(\u001b[0m\u001b[0mclass_labels\u001b[0m\u001b[0;34m)\u001b[0m\u001b[0;34m)\u001b[0m  \u001b[0;31m# Use the number of unique classes\u001b[0m\u001b[0;34m\u001b[0m\u001b[0;34m\u001b[0m\u001b[0m\n",
            "\u001b[0;31mNameError\u001b[0m: name 'predict' is not defined"
          ]
        }
      ],
      "source": [
        "plot_images_withLegends(5)"
      ]
    },
    {
      "cell_type": "code",
      "execution_count": 12,
      "metadata": {
        "colab": {
          "base_uri": "https://localhost:8080/"
        },
        "id": "g3L-s19mO7_5",
        "outputId": "40062960-e0f9-4f81-adab-dac38f1e8a4a"
      },
      "outputs": [
        {
          "name": "stdout",
          "output_type": "stream",
          "text": [
            "Overall Maximum Pixel Value: 103\n"
          ]
        }
      ],
      "source": [
        " max_pixel_value = 0\n",
        "\n",
        " for image_path in mask_paths:\n",
        "  # Load and preprocess image\n",
        "  # img_img = tf.io.read_file(self.image_paths[i])\n",
        "  # img = tf.image.decode_png(img_img, channels=3)\n",
        "  # img.set_shape([None, None, 3])\n",
        "  # img = tf.image.resize(images=img, size=[IMAGE_SIZE, IMAGE_SIZE])\n",
        "  # img = tf.keras.applications.resnet50.preprocess_input(img)\n",
        "  # batch_x.append(img)\n",
        "\n",
        "  # Load and preprocess mask\n",
        "  mask_img = tf.io.read_file(image_path)\n",
        "  mask = tf.image.decode_png(mask_img, channels=1)\n",
        "  mask.set_shape([None, None, 1])\n",
        "  mask = tf.image.resize(images=mask, size=[IMAGE_SIZE, IMAGE_SIZE], method='nearest')\n",
        "  max_value_in_image = np.max(mask)\n",
        "  max_pixel_value = max(max_pixel_value, max_value_in_image)\n",
        "  # batch_y.append(mask)\n",
        "\n",
        "print(\"Overall Maximum Pixel Value:\", max_pixel_value)"
      ]
    },
    {
      "cell_type": "code",
      "execution_count": null,
      "metadata": {
        "id": "jna9zcc0O75b"
      },
      "outputs": [],
      "source": []
    },
    {
      "cell_type": "code",
      "execution_count": null,
      "metadata": {
        "id": "qu6lGqdgFqbj"
      },
      "outputs": [],
      "source": [
        "\n",
        "\n",
        "def load_and_preprocess_image(image_path):\n",
        "    image = tf.io.read_file(image_path)\n",
        "    image = tf.image.decode_png(image, channels=3)\n",
        "    image.set_shape([None, None, 3])\n",
        "    image = tf.image.resize(images=image, size=[IMAGE_SIZE, IMAGE_SIZE])\n",
        "    image = tf.keras.applications.resnet50.preprocess_input(image)\n",
        "    return image\n",
        "\n",
        "##todo maybe the colors should be checked\n",
        "def load_and_preprocess_mask(mask_path):\n",
        "  image = tf.io.read_file(mask_path)\n",
        "  image = tf.image.decode_png(image, channels=1)\n",
        "  image.set_shape([None, None, 1])\n",
        "  image = tf.image.resize(images=image, size=[IMAGE_SIZE, IMAGE_SIZE], method='nearest')\n",
        "  return image\n",
        "\n",
        "def load_and_preprocess_data(image_path, mask_path):\n",
        "    # Load and preprocess your images and masks\n",
        "    # You may need to resize, normalize, or apply other preprocessing steps\n",
        "    image = load_and_preprocess_image(image_path)\n",
        "    mask = load_and_preprocess_mask(mask_path)\n",
        "    return image, mask\n",
        "\n",
        "dataset = dataset.map(load_and_preprocess_data)\n",
        "\n"
      ]
    },
    {
      "cell_type": "code",
      "execution_count": null,
      "metadata": {
        "id": "b7wyFl7Xvq8Y"
      },
      "outputs": [],
      "source": [
        "##the model\n",
        "def convolution_block(\n",
        "    block_input,\n",
        "    num_filters=256,\n",
        "    kernel_size=3,\n",
        "    dilation_rate=1,\n",
        "    padding=\"same\",\n",
        "    use_bias=False,\n",
        "):\n",
        "    x = layers.Conv2D(\n",
        "        num_filters,\n",
        "        kernel_size=kernel_size,\n",
        "        dilation_rate=dilation_rate,\n",
        "        padding=\"same\",\n",
        "        use_bias=use_bias,\n",
        "        kernel_initializer=keras.initializers.HeNormal(),\n",
        "    )(block_input)\n",
        "    x = layers.BatchNormalization()(x)\n",
        "    return tf.nn.relu(x)\n",
        "\n",
        "\n",
        "def DilatedSpatialPyramidPooling(dspp_input):\n",
        "    dims = dspp_input.shape\n",
        "    x = layers.AveragePooling2D(pool_size=(dims[-3], dims[-2]))(dspp_input)\n",
        "    x = convolution_block(x, kernel_size=1, use_bias=True)\n",
        "    out_pool = layers.UpSampling2D(\n",
        "        size=(dims[-3] // x.shape[1], dims[-2] // x.shape[2]), interpolation=\"bilinear\",\n",
        "    )(x)\n",
        "\n",
        "    out_1 = convolution_block(dspp_input, kernel_size=1, dilation_rate=1)\n",
        "    out_6 = convolution_block(dspp_input, kernel_size=3, dilation_rate=6)\n",
        "    out_12 = convolution_block(dspp_input, kernel_size=3, dilation_rate=12)\n",
        "    out_18 = convolution_block(dspp_input, kernel_size=3, dilation_rate=18)\n",
        "\n",
        "    x = layers.Concatenate(axis=-1)([out_pool, out_1, out_6, out_12, out_18])\n",
        "    output = convolution_block(x, kernel_size=1)\n",
        "    return output\n",
        "\n",
        "def DeeplabV3Plus(image_size, num_classes):\n",
        "    model_input = keras.Input(shape=(image_size, image_size, 3))\n",
        "    resnet50 = keras.applications.ResNet50(\n",
        "        weights=\"imagenet\", include_top=False, input_tensor=model_input\n",
        "    )\n",
        "    x = resnet50.get_layer(\"conv4_block6_2_relu\").output\n",
        "    x = DilatedSpatialPyramidPooling(x)\n",
        "\n",
        "    input_a = layers.UpSampling2D(\n",
        "        size=(image_size // 4 // x.shape[1], image_size // 4 // x.shape[2]),\n",
        "        interpolation=\"bilinear\",\n",
        "    )(x)\n",
        "    input_b = resnet50.get_layer(\"conv2_block3_2_relu\").output\n",
        "    input_b = convolution_block(input_b, num_filters=48, kernel_size=1)\n",
        "\n",
        "    x = layers.Concatenate(axis=-1)([input_a, input_b])\n",
        "    x = convolution_block(x)\n",
        "    x = convolution_block(x)\n",
        "    x = layers.UpSampling2D(\n",
        "        size=(image_size // x.shape[1], image_size // x.shape[2]),\n",
        "        interpolation=\"bilinear\",\n",
        "    )(x)\n",
        "    model_output = layers.Conv2D(num_classes, kernel_size=(1, 1), padding=\"same\", kernel_initializer=keras.initializers.HeNormal())(x)\n",
        "    return keras.Model(inputs=model_input, outputs=model_output)"
      ]
    },
    {
      "cell_type": "code",
      "execution_count": null,
      "metadata": {
        "id": "13WjhwHgTBZH"
      },
      "outputs": [],
      "source": [
        "train_size = int(0.8 * len(images['image']))\n",
        "train_dataset = dataset.take(train_size)\n",
        "val_dataset = dataset.skip(train_size)"
      ]
    },
    {
      "cell_type": "code",
      "execution_count": null,
      "metadata": {
        "colab": {
          "base_uri": "https://localhost:8080/",
          "height": 735
        },
        "id": "eZ0yZo6TR0y5",
        "outputId": "80b6f170-ccd2-4ab8-8edf-424932f644ce"
      },
      "outputs": [
        {
          "name": "stdout",
          "output_type": "stream",
          "text": [
            "Downloading data from https://storage.googleapis.com/tensorflow/keras-applications/resnet/resnet50_weights_tf_dim_ordering_tf_kernels_notop.h5\n",
            "94765736/94765736 [==============================] - 0s 0us/step\n",
            "Epoch 1/10\n"
          ]
        },
        {
          "ename": "ValueError",
          "evalue": "ignored",
          "output_type": "error",
          "traceback": [
            "\u001b[0;31m---------------------------------------------------------------------------\u001b[0m",
            "\u001b[0;31mValueError\u001b[0m                                Traceback (most recent call last)",
            "\u001b[0;32m<ipython-input-7-bf797d11fbca>\u001b[0m in \u001b[0;36m<cell line: 13>\u001b[0;34m()\u001b[0m\n\u001b[1;32m     11\u001b[0m \u001b[0mmodel\u001b[0m\u001b[0;34m.\u001b[0m\u001b[0mcompile\u001b[0m\u001b[0;34m(\u001b[0m\u001b[0moptimizer\u001b[0m\u001b[0;34m=\u001b[0m\u001b[0;34m'adam'\u001b[0m\u001b[0;34m,\u001b[0m \u001b[0mloss\u001b[0m\u001b[0;34m=\u001b[0m\u001b[0;34m'sparse_categorical_crossentropy'\u001b[0m\u001b[0;34m,\u001b[0m \u001b[0mmetrics\u001b[0m\u001b[0;34m=\u001b[0m\u001b[0;34m[\u001b[0m\u001b[0;34m'accuracy'\u001b[0m\u001b[0;34m,\u001b[0m \u001b[0mmean_iou_metric\u001b[0m\u001b[0;34m]\u001b[0m\u001b[0;34m)\u001b[0m\u001b[0;34m\u001b[0m\u001b[0;34m\u001b[0m\u001b[0m\n\u001b[1;32m     12\u001b[0m \u001b[0;34m\u001b[0m\u001b[0m\n\u001b[0;32m---> 13\u001b[0;31m \u001b[0mmodel\u001b[0m\u001b[0;34m.\u001b[0m\u001b[0mfit\u001b[0m\u001b[0;34m(\u001b[0m\u001b[0mtrain_dataset\u001b[0m\u001b[0;34m,\u001b[0m \u001b[0msteps_per_epoch\u001b[0m\u001b[0;34m=\u001b[0m\u001b[0;36m10\u001b[0m\u001b[0;34m,\u001b[0m \u001b[0mepochs\u001b[0m\u001b[0;34m=\u001b[0m\u001b[0;36m10\u001b[0m\u001b[0;34m,\u001b[0m\u001b[0mvalidation_data\u001b[0m\u001b[0;34m=\u001b[0m\u001b[0mval_dataset\u001b[0m\u001b[0;34m)\u001b[0m\u001b[0;34m\u001b[0m\u001b[0;34m\u001b[0m\u001b[0m\n\u001b[0m\u001b[1;32m     14\u001b[0m \u001b[0mmodel\u001b[0m\u001b[0;34m.\u001b[0m\u001b[0mevaluate\u001b[0m\u001b[0;34m(\u001b[0m\u001b[0mtest_generator\u001b[0m\u001b[0;34m)\u001b[0m\u001b[0;34m\u001b[0m\u001b[0;34m\u001b[0m\u001b[0m\n\u001b[1;32m     15\u001b[0m \u001b[0;34m\u001b[0m\u001b[0m\n",
            "\u001b[0;32m/usr/local/lib/python3.10/dist-packages/keras/src/utils/traceback_utils.py\u001b[0m in \u001b[0;36merror_handler\u001b[0;34m(*args, **kwargs)\u001b[0m\n\u001b[1;32m     68\u001b[0m             \u001b[0;31m# To get the full stack trace, call:\u001b[0m\u001b[0;34m\u001b[0m\u001b[0;34m\u001b[0m\u001b[0m\n\u001b[1;32m     69\u001b[0m             \u001b[0;31m# `tf.debugging.disable_traceback_filtering()`\u001b[0m\u001b[0;34m\u001b[0m\u001b[0;34m\u001b[0m\u001b[0m\n\u001b[0;32m---> 70\u001b[0;31m             \u001b[0;32mraise\u001b[0m \u001b[0me\u001b[0m\u001b[0;34m.\u001b[0m\u001b[0mwith_traceback\u001b[0m\u001b[0;34m(\u001b[0m\u001b[0mfiltered_tb\u001b[0m\u001b[0;34m)\u001b[0m \u001b[0;32mfrom\u001b[0m \u001b[0;32mNone\u001b[0m\u001b[0;34m\u001b[0m\u001b[0;34m\u001b[0m\u001b[0m\n\u001b[0m\u001b[1;32m     71\u001b[0m         \u001b[0;32mfinally\u001b[0m\u001b[0;34m:\u001b[0m\u001b[0;34m\u001b[0m\u001b[0;34m\u001b[0m\u001b[0m\n\u001b[1;32m     72\u001b[0m             \u001b[0;32mdel\u001b[0m \u001b[0mfiltered_tb\u001b[0m\u001b[0;34m\u001b[0m\u001b[0;34m\u001b[0m\u001b[0m\n",
            "\u001b[0;32m/usr/local/lib/python3.10/dist-packages/keras/src/engine/training.py\u001b[0m in \u001b[0;36mtf__train_function\u001b[0;34m(iterator)\u001b[0m\n\u001b[1;32m     13\u001b[0m                 \u001b[0;32mtry\u001b[0m\u001b[0;34m:\u001b[0m\u001b[0;34m\u001b[0m\u001b[0;34m\u001b[0m\u001b[0m\n\u001b[1;32m     14\u001b[0m                     \u001b[0mdo_return\u001b[0m \u001b[0;34m=\u001b[0m \u001b[0;32mTrue\u001b[0m\u001b[0;34m\u001b[0m\u001b[0;34m\u001b[0m\u001b[0m\n\u001b[0;32m---> 15\u001b[0;31m                     \u001b[0mretval_\u001b[0m \u001b[0;34m=\u001b[0m \u001b[0mag__\u001b[0m\u001b[0;34m.\u001b[0m\u001b[0mconverted_call\u001b[0m\u001b[0;34m(\u001b[0m\u001b[0mag__\u001b[0m\u001b[0;34m.\u001b[0m\u001b[0mld\u001b[0m\u001b[0;34m(\u001b[0m\u001b[0mstep_function\u001b[0m\u001b[0;34m)\u001b[0m\u001b[0;34m,\u001b[0m \u001b[0;34m(\u001b[0m\u001b[0mag__\u001b[0m\u001b[0;34m.\u001b[0m\u001b[0mld\u001b[0m\u001b[0;34m(\u001b[0m\u001b[0mself\u001b[0m\u001b[0;34m)\u001b[0m\u001b[0;34m,\u001b[0m \u001b[0mag__\u001b[0m\u001b[0;34m.\u001b[0m\u001b[0mld\u001b[0m\u001b[0;34m(\u001b[0m\u001b[0miterator\u001b[0m\u001b[0;34m)\u001b[0m\u001b[0;34m)\u001b[0m\u001b[0;34m,\u001b[0m \u001b[0;32mNone\u001b[0m\u001b[0;34m,\u001b[0m \u001b[0mfscope\u001b[0m\u001b[0;34m)\u001b[0m\u001b[0;34m\u001b[0m\u001b[0;34m\u001b[0m\u001b[0m\n\u001b[0m\u001b[1;32m     16\u001b[0m                 \u001b[0;32mexcept\u001b[0m\u001b[0;34m:\u001b[0m\u001b[0;34m\u001b[0m\u001b[0;34m\u001b[0m\u001b[0m\n\u001b[1;32m     17\u001b[0m                     \u001b[0mdo_return\u001b[0m \u001b[0;34m=\u001b[0m \u001b[0;32mFalse\u001b[0m\u001b[0;34m\u001b[0m\u001b[0;34m\u001b[0m\u001b[0m\n",
            "\u001b[0;31mValueError\u001b[0m: in user code:\n\n    File \"/usr/local/lib/python3.10/dist-packages/keras/src/engine/training.py\", line 1377, in train_function  *\n        return step_function(self, iterator)\n    File \"/usr/local/lib/python3.10/dist-packages/keras/src/engine/training.py\", line 1360, in step_function  **\n        outputs = model.distribute_strategy.run(run_step, args=(data,))\n    File \"/usr/local/lib/python3.10/dist-packages/keras/src/engine/training.py\", line 1349, in run_step  **\n        outputs = model.train_step(data)\n    File \"/usr/local/lib/python3.10/dist-packages/keras/src/engine/training.py\", line 1126, in train_step\n        y_pred = self(x, training=True)\n    File \"/usr/local/lib/python3.10/dist-packages/keras/src/utils/traceback_utils.py\", line 70, in error_handler\n        raise e.with_traceback(filtered_tb) from None\n    File \"/usr/local/lib/python3.10/dist-packages/keras/src/engine/input_spec.py\", line 298, in assert_input_compatibility\n        raise ValueError(\n\n    ValueError: Input 0 of layer \"model\" is incompatible with the layer: expected shape=(None, 256, 256, 3), found shape=(256, 256, 3)\n"
          ]
        }
      ],
      "source": [
        "model = DeeplabV3Plus(IMAGE_SIZE, NUM_CLASSES)\n",
        "\n",
        "# Define a custom mIoU metric\n",
        "class MeanIoU(tf.keras.metrics.MeanIoU):\n",
        "    def __init__(self, num_classes):\n",
        "        super(MeanIoU, self).__init__(num_classes=num_classes)\n",
        "\n",
        "mean_iou_metric = MeanIoU(NUM_CLASSES)\n",
        "\n",
        "# Compile the model with the custom metric\n",
        "model.compile(optimizer='adam', loss='sparse_categorical_crossentropy', metrics=['accuracy', mean_iou_metric])\n",
        "\n",
        "model.fit(train_dataset, steps_per_epoch=10, epochs=10,validation_data=val_dataset)\n",
        "model.evaluate(test_generator)\n",
        "\n",
        "# Access the mean IoU value\n",
        "mean_iou_value = mean_iou_metric.result().numpy()\n"
      ]
    },
    {
      "cell_type": "code",
      "execution_count": null,
      "metadata": {
        "colab": {
          "base_uri": "https://localhost:8080/",
          "height": 443
        },
        "id": "TtnY1pI1YAd7",
        "outputId": "ef577855-da7e-424b-859d-74a05decbfb3"
      },
      "outputs": [
        {
          "name": "stdout",
          "output_type": "stream",
          "text": [
            "Found 0 images belonging to 0 classes.\n"
          ]
        },
        {
          "ename": "FileNotFoundError",
          "evalue": "ignored",
          "output_type": "error",
          "traceback": [
            "\u001b[0;31m---------------------------------------------------------------------------\u001b[0m",
            "\u001b[0;31mFileNotFoundError\u001b[0m                         Traceback (most recent call last)",
            "\u001b[0;32m<ipython-input-11-3fba79febe1c>\u001b[0m in \u001b[0;36m<cell line: 39>\u001b[0;34m()\u001b[0m\n\u001b[1;32m     37\u001b[0m \u001b[0;34m\u001b[0m\u001b[0m\n\u001b[1;32m     38\u001b[0m \u001b[0;31m# Extract one batch for debugging\u001b[0m\u001b[0;34m\u001b[0m\u001b[0;34m\u001b[0m\u001b[0m\n\u001b[0;32m---> 39\u001b[0;31m \u001b[0msample_batch_train\u001b[0m \u001b[0;34m=\u001b[0m \u001b[0mnext\u001b[0m\u001b[0;34m(\u001b[0m\u001b[0mtrain_generator\u001b[0m\u001b[0;34m)\u001b[0m\u001b[0;34m\u001b[0m\u001b[0;34m\u001b[0m\u001b[0m\n\u001b[0m\u001b[1;32m     40\u001b[0m \u001b[0msample_images_train\u001b[0m\u001b[0;34m,\u001b[0m \u001b[0msample_masks_train\u001b[0m \u001b[0;34m=\u001b[0m \u001b[0msample_batch_train\u001b[0m\u001b[0;34m[\u001b[0m\u001b[0;36m0\u001b[0m\u001b[0;34m]\u001b[0m\u001b[0;34m,\u001b[0m \u001b[0msample_batch_train\u001b[0m\u001b[0;34m[\u001b[0m\u001b[0;36m1\u001b[0m\u001b[0;34m]\u001b[0m\u001b[0;34m\u001b[0m\u001b[0;34m\u001b[0m\u001b[0m\n\u001b[1;32m     41\u001b[0m \u001b[0;34m\u001b[0m\u001b[0m\n",
            "\u001b[0;32m<ipython-input-11-3fba79febe1c>\u001b[0m in \u001b[0;36mcustom_data_generator\u001b[0;34m(image_folder, mask_folder, batch_size, target_size)\u001b[0m\n\u001b[1;32m     18\u001b[0m     )\n\u001b[1;32m     19\u001b[0m \u001b[0;34m\u001b[0m\u001b[0m\n\u001b[0;32m---> 20\u001b[0;31m     mask_generator = mask_datagen.flow_from_directory(\n\u001b[0m\u001b[1;32m     21\u001b[0m         \u001b[0mmask_folder\u001b[0m\u001b[0;34m,\u001b[0m\u001b[0;34m\u001b[0m\u001b[0;34m\u001b[0m\u001b[0m\n\u001b[1;32m     22\u001b[0m         \u001b[0mclass_mode\u001b[0m\u001b[0;34m=\u001b[0m\u001b[0;32mNone\u001b[0m\u001b[0;34m,\u001b[0m\u001b[0;34m\u001b[0m\u001b[0;34m\u001b[0m\u001b[0m\n",
            "\u001b[0;32m/usr/local/lib/python3.10/dist-packages/keras/src/preprocessing/image.py\u001b[0m in \u001b[0;36mflow_from_directory\u001b[0;34m(self, directory, target_size, color_mode, classes, class_mode, batch_size, shuffle, seed, save_to_dir, save_prefix, save_format, follow_links, subset, interpolation, keep_aspect_ratio)\u001b[0m\n\u001b[1;32m   1647\u001b[0m             \u001b[0;32mand\u001b[0m\u001b[0;31m \u001b[0m\u001b[0;31m`\u001b[0m\u001b[0my\u001b[0m\u001b[0;31m`\u001b[0m \u001b[0;32mis\u001b[0m \u001b[0ma\u001b[0m \u001b[0mnumpy\u001b[0m \u001b[0marray\u001b[0m \u001b[0mof\u001b[0m \u001b[0mcorresponding\u001b[0m \u001b[0mlabels\u001b[0m\u001b[0;34m.\u001b[0m\u001b[0;34m\u001b[0m\u001b[0;34m\u001b[0m\u001b[0m\n\u001b[1;32m   1648\u001b[0m         \"\"\"\n\u001b[0;32m-> 1649\u001b[0;31m         return DirectoryIterator(\n\u001b[0m\u001b[1;32m   1650\u001b[0m             \u001b[0mdirectory\u001b[0m\u001b[0;34m,\u001b[0m\u001b[0;34m\u001b[0m\u001b[0;34m\u001b[0m\u001b[0m\n\u001b[1;32m   1651\u001b[0m             \u001b[0mself\u001b[0m\u001b[0;34m,\u001b[0m\u001b[0;34m\u001b[0m\u001b[0;34m\u001b[0m\u001b[0m\n",
            "\u001b[0;32m/usr/local/lib/python3.10/dist-packages/keras/src/preprocessing/image.py\u001b[0m in \u001b[0;36m__init__\u001b[0;34m(self, directory, image_data_generator, target_size, color_mode, classes, class_mode, batch_size, shuffle, seed, data_format, save_to_dir, save_prefix, save_format, follow_links, subset, interpolation, keep_aspect_ratio, dtype)\u001b[0m\n\u001b[1;32m    561\u001b[0m         \u001b[0;32mif\u001b[0m \u001b[0;32mnot\u001b[0m \u001b[0mclasses\u001b[0m\u001b[0;34m:\u001b[0m\u001b[0;34m\u001b[0m\u001b[0;34m\u001b[0m\u001b[0m\n\u001b[1;32m    562\u001b[0m             \u001b[0mclasses\u001b[0m \u001b[0;34m=\u001b[0m \u001b[0;34m[\u001b[0m\u001b[0;34m]\u001b[0m\u001b[0;34m\u001b[0m\u001b[0;34m\u001b[0m\u001b[0m\n\u001b[0;32m--> 563\u001b[0;31m             \u001b[0;32mfor\u001b[0m \u001b[0msubdir\u001b[0m \u001b[0;32min\u001b[0m \u001b[0msorted\u001b[0m\u001b[0;34m(\u001b[0m\u001b[0mos\u001b[0m\u001b[0;34m.\u001b[0m\u001b[0mlistdir\u001b[0m\u001b[0;34m(\u001b[0m\u001b[0mdirectory\u001b[0m\u001b[0;34m)\u001b[0m\u001b[0;34m)\u001b[0m\u001b[0;34m:\u001b[0m\u001b[0;34m\u001b[0m\u001b[0;34m\u001b[0m\u001b[0m\n\u001b[0m\u001b[1;32m    564\u001b[0m                 \u001b[0;32mif\u001b[0m \u001b[0mos\u001b[0m\u001b[0;34m.\u001b[0m\u001b[0mpath\u001b[0m\u001b[0;34m.\u001b[0m\u001b[0misdir\u001b[0m\u001b[0;34m(\u001b[0m\u001b[0mos\u001b[0m\u001b[0;34m.\u001b[0m\u001b[0mpath\u001b[0m\u001b[0;34m.\u001b[0m\u001b[0mjoin\u001b[0m\u001b[0;34m(\u001b[0m\u001b[0mdirectory\u001b[0m\u001b[0;34m,\u001b[0m \u001b[0msubdir\u001b[0m\u001b[0;34m)\u001b[0m\u001b[0;34m)\u001b[0m\u001b[0;34m:\u001b[0m\u001b[0;34m\u001b[0m\u001b[0;34m\u001b[0m\u001b[0m\n\u001b[1;32m    565\u001b[0m                     \u001b[0mclasses\u001b[0m\u001b[0;34m.\u001b[0m\u001b[0mappend\u001b[0m\u001b[0;34m(\u001b[0m\u001b[0msubdir\u001b[0m\u001b[0;34m)\u001b[0m\u001b[0;34m\u001b[0m\u001b[0;34m\u001b[0m\u001b[0m\n",
            "\u001b[0;31mFileNotFoundError\u001b[0m: [Errno 2] No such file or directory: '/content/gdrive/My Drive/FoodSeg103/Images/img_dir/masks'"
          ]
        }
      ],
      "source": [
        "from tensorflow.keras.preprocessing.image import ImageDataGenerator\n",
        "import os\n",
        "import numpy as np\n",
        "\n",
        "# Path to your dataset\n",
        "dataset_path = Path(os.getcwd() + r\"/gdrive/My Drive/FoodSeg103/Images/img_dir\")\n",
        "\n",
        "def custom_data_generator(image_folder, mask_folder, batch_size=32, target_size=(256, 256)):\n",
        "    image_datagen = ImageDataGenerator(rescale=1./255)\n",
        "    mask_datagen = ImageDataGenerator()\n",
        "\n",
        "    image_generator = image_datagen.flow_from_directory(\n",
        "        image_folder,\n",
        "        class_mode=None,\n",
        "        target_size=target_size,\n",
        "        batch_size=batch_size,\n",
        "        seed=42\n",
        "    )\n",
        "\n",
        "    mask_generator = mask_datagen.flow_from_directory(\n",
        "        mask_folder,\n",
        "        class_mode=None,\n",
        "        target_size=target_size,\n",
        "        batch_size=batch_size,\n",
        "        seed=42,\n",
        "        color_mode='grayscale'\n",
        "    )\n",
        "\n",
        "    while True:\n",
        "        image_batch = image_generator.next()\n",
        "        mask_batch = mask_generator.next()\n",
        "        yield image_batch, mask_batch\n",
        "\n",
        "# Create a custom data generator for both train and test\n",
        "train_generator = custom_data_generator(os.path.join(dataset_path, 'train'), os.path.join(dataset_path, 'masks'))\n",
        "test_generator = custom_data_generator(os.path.join(dataset_path, 'test'), os.path.join(dataset_path, 'masks'))\n",
        "\n",
        "# Extract one batch for debugging\n",
        "sample_batch_train = next(train_generator)\n",
        "sample_images_train, sample_masks_train = sample_batch_train[0], sample_batch_train[1]\n",
        "\n",
        "sample_batch_test = next(test_generator)\n",
        "sample_images_test, sample_masks_test = sample_batch_test[0], sample_batch_test[1]\n",
        "\n",
        "# Now, the shape of sample_images_train/masks_train and sample_images_test/masks_test should be (32, 256, 256, 3) and (32, 256, 256, 1) respectively\n",
        "print(sample_images_train.shape, sample_masks_train.shape)\n",
        "print(sample_images_test.shape, sample_masks_test.shape)"
      ]
    },
    {
      "cell_type": "code",
      "execution_count": null,
      "metadata": {
        "colab": {
          "base_uri": "https://localhost:8080/",
          "height": 254
        },
        "id": "rlukq-kETADm",
        "outputId": "f929ba96-2121-4e51-8004-1aa95b6b0045"
      },
      "outputs": [
        {
          "ename": "TypeError",
          "evalue": "ignored",
          "output_type": "error",
          "traceback": [
            "\u001b[0;31m---------------------------------------------------------------------------\u001b[0m",
            "\u001b[0;31mTypeError\u001b[0m                                 Traceback (most recent call last)",
            "\u001b[0;32m<ipython-input-10-f52ade90c6c3>\u001b[0m in \u001b[0;36m<cell line: 8>\u001b[0;34m()\u001b[0m\n\u001b[1;32m      6\u001b[0m \u001b[0;31m# Create an ImageDataGenerator for images\u001b[0m\u001b[0;34m\u001b[0m\u001b[0;34m\u001b[0m\u001b[0m\n\u001b[1;32m      7\u001b[0m \u001b[0mimage_datagen\u001b[0m \u001b[0;34m=\u001b[0m \u001b[0mImageDataGenerator\u001b[0m\u001b[0;34m(\u001b[0m\u001b[0mrescale\u001b[0m\u001b[0;34m=\u001b[0m\u001b[0;36m1.\u001b[0m\u001b[0;34m/\u001b[0m\u001b[0;36m255\u001b[0m\u001b[0;34m)\u001b[0m\u001b[0;34m\u001b[0m\u001b[0;34m\u001b[0m\u001b[0m\n\u001b[0;32m----> 8\u001b[0;31m image_generator = image_datagen.flow_from_directory(\n\u001b[0m\u001b[1;32m      9\u001b[0m     \u001b[0mdataset_path\u001b[0m\u001b[0;34m=\u001b[0m\u001b[0;34m[\u001b[0m\u001b[0;34m'train'\u001b[0m\u001b[0;34m,\u001b[0m \u001b[0;34m'test'\u001b[0m\u001b[0;34m]\u001b[0m\u001b[0;34m,\u001b[0m\u001b[0;34m\u001b[0m\u001b[0;34m\u001b[0m\u001b[0m\n\u001b[1;32m     10\u001b[0m     \u001b[0mclasses\u001b[0m\u001b[0;34m=\u001b[0m\u001b[0;32mNone\u001b[0m\u001b[0;34m,\u001b[0m  \u001b[0;31m# Include both 'train' and 'test' folders\u001b[0m\u001b[0;34m\u001b[0m\u001b[0;34m\u001b[0m\u001b[0m\n",
            "\u001b[0;31mTypeError\u001b[0m: ImageDataGenerator.flow_from_directory() got an unexpected keyword argument 'dataset_path'"
          ]
        }
      ],
      "source": [
        "from tensorflow.keras.preprocessing.image import ImageDataGenerator\n",
        "\n",
        "# Path to your dataset\n",
        "dataset_path = Path(os.getcwd() + r\"/gdrive/My Drive/FoodSeg103/Images/img_dir\")\n",
        "\n",
        "# Create an ImageDataGenerator for images\n",
        "image_datagen = ImageDataGenerator(rescale=1./255)\n",
        "image_generator = image_datagen.flow_from_directory(\n",
        "    dataset_path=,\n",
        "    classes=['train', 'test'],  # Include both 'train' and 'test' folders\n",
        "    class_mode=None,\n",
        "    target_size=(256, 256),  # Adjust the target size based on your model input size\n",
        "    batch_size=32,\n",
        "    seed=42\n",
        ")"
      ]
    },
    {
      "cell_type": "code",
      "execution_count": null,
      "metadata": {
        "colab": {
          "base_uri": "https://localhost:8080/",
          "height": 346
        },
        "id": "5VcfG91Av0z6",
        "outputId": "e8f92687-ee48-4a11-ad53-286149663d77"
      },
      "outputs": [
        {
          "ename": "NameError",
          "evalue": "ignored",
          "output_type": "error",
          "traceback": [
            "\u001b[0;31m---------------------------------------------------------------------------\u001b[0m",
            "\u001b[0;31mNameError\u001b[0m                                 Traceback (most recent call last)",
            "\u001b[0;32m<ipython-input-1-d74f1b51338e>\u001b[0m in \u001b[0;36m<cell line: 13>\u001b[0;34m()\u001b[0m\n\u001b[1;32m     11\u001b[0m   \u001b[0;32mreturn\u001b[0m \u001b[0;34m(\u001b[0m\u001b[0mmodel\u001b[0m\u001b[0;34m,\u001b[0m \u001b[0mhistory\u001b[0m\u001b[0;34m)\u001b[0m\u001b[0;34m\u001b[0m\u001b[0;34m\u001b[0m\u001b[0m\n\u001b[1;32m     12\u001b[0m \u001b[0;34m\u001b[0m\u001b[0m\n\u001b[0;32m---> 13\u001b[0;31m \u001b[0mt\u001b[0m\u001b[0;34m=\u001b[0m \u001b[0mtrain_model_new\u001b[0m\u001b[0;34m(\u001b[0m\u001b[0;34m)\u001b[0m\u001b[0;34m\u001b[0m\u001b[0;34m\u001b[0m\u001b[0m\n\u001b[0m",
            "\u001b[0;32m<ipython-input-1-d74f1b51338e>\u001b[0m in \u001b[0;36mtrain_model_new\u001b[0;34m()\u001b[0m\n\u001b[1;32m      1\u001b[0m \u001b[0;32mdef\u001b[0m \u001b[0mtrain_model_new\u001b[0m\u001b[0;34m(\u001b[0m\u001b[0;34m)\u001b[0m\u001b[0;34m:\u001b[0m\u001b[0;34m\u001b[0m\u001b[0;34m\u001b[0m\u001b[0m\n\u001b[0;32m----> 2\u001b[0;31m   \u001b[0mmodel\u001b[0m\u001b[0;34m=\u001b[0m\u001b[0mDeeplabV3Plus\u001b[0m\u001b[0;34m(\u001b[0m\u001b[0mimage_size\u001b[0m\u001b[0;34m=\u001b[0m\u001b[0mIMAGE_SIZE\u001b[0m\u001b[0;34m,\u001b[0m \u001b[0mnum_classes\u001b[0m\u001b[0;34m=\u001b[0m\u001b[0mNUM_CLASSES\u001b[0m\u001b[0;34m)\u001b[0m\u001b[0;34m\u001b[0m\u001b[0;34m\u001b[0m\u001b[0m\n\u001b[0m\u001b[1;32m      3\u001b[0m   model.compile(\n\u001b[1;32m      4\u001b[0m     optimizer=keras.optimizers.SGD(\n\u001b[1;32m      5\u001b[0m         \u001b[0mlearning_rate\u001b[0m\u001b[0;34m=\u001b[0m\u001b[0mLEARNING_RATE\u001b[0m\u001b[0;34m,\u001b[0m \u001b[0mweight_decay\u001b[0m\u001b[0;34m=\u001b[0m\u001b[0mWEIGHT_DECAY\u001b[0m\u001b[0;34m,\u001b[0m \u001b[0mmomentum\u001b[0m\u001b[0;34m=\u001b[0m\u001b[0mMOMENTUM\u001b[0m\u001b[0;34m,\u001b[0m \u001b[0mclipnorm\u001b[0m\u001b[0;34m=\u001b[0m\u001b[0mCLIPNORM\u001b[0m\u001b[0;34m\u001b[0m\u001b[0;34m\u001b[0m\u001b[0m\n",
            "\u001b[0;31mNameError\u001b[0m: name 'DeeplabV3Plus' is not defined"
          ]
        }
      ],
      "source": [
        "def train_model_new():\n",
        "  model=DeeplabV3Plus(image_size=IMAGE_SIZE, num_classes=NUM_CLASSES)\n",
        "  model.compile(\n",
        "    optimizer=keras.optimizers.SGD(\n",
        "        learning_rate=LEARNING_RATE, weight_decay=WEIGHT_DECAY, momentum=MOMENTUM, clipnorm=CLIPNORM\n",
        "    ),\n",
        "    loss=keras.losses.CategoricalCrossentropy(from_logits=False),\n",
        "    metrics=['accuracy', tf.keras.metrics.MeanIoU(num_classes=NUM_CLASSES)\n",
        "    ])\n",
        "  history = model.fit(train_dataset, validation_data=val_dataset, epochs=EPOCHS)\n",
        "  return (model, history)\n",
        "\n",
        "t= train_model_new()"
      ]
    },
    {
      "cell_type": "code",
      "execution_count": null,
      "metadata": {
        "id": "4rlF96w-seBF"
      },
      "outputs": [],
      "source": [
        "images = load_images_combined(10,10)"
      ]
    },
    {
      "cell_type": "code",
      "execution_count": null,
      "metadata": {
        "id": "AJBeKApJvLH-"
      },
      "outputs": [],
      "source": [
        "train_size = int(0.8 * len(images['image']))\n",
        "train_dataset = dataset.take(train_size)\n",
        "val_dataset = dataset.skip(train_size)\n",
        "\n",
        "# Batch and shuffle the training dataset\n",
        "train_dataset = train_dataset.shuffle(buffer_size=1000).batch(BATCH_SIZE).prefetch(buffer_size=tf.data.experimental.AUTOTUNE)\n",
        "\n",
        "# Batch the validation dataset\n",
        "val_dataset = val_dataset.batch(BATCH_SIZE).prefetch(buffer_size=tf.data.experimental.AUTOTUNE)\n"
      ]
    },
    {
      "cell_type": "code",
      "execution_count": null,
      "metadata": {
        "id": "aDrIPt8Isywr"
      },
      "outputs": [],
      "source": [
        "singleMask=load_and_preprocess_mask(images['masks'][0])\n",
        "ar"
      ]
    },
    {
      "cell_type": "code",
      "execution_count": null,
      "metadata": {
        "colab": {
          "base_uri": "https://localhost:8080/",
          "height": 472
        },
        "id": "iRlL31hhtizF",
        "outputId": "616fd712-bb06-4b5b-c920-1b3f4b3eddd6"
      },
      "outputs": [
        {
          "name": "stdout",
          "output_type": "stream",
          "text": [
            "Image Shape: (384, 512, 1)\n",
            "Image Data Type: <dtype: 'float32'>\n"
          ]
        },
        {
          "data": {
            "image/png": "[encoded data removed]",
            "text/plain": [
              "<Figure size 640x480 with 1 Axes>"
            ]
          },
          "metadata": {},
          "output_type": "display_data"
        }
      ],
      "source": [
        "img_raw = tf.io.read_file(images['masks'][0])\n",
        "\n",
        "# Decode the image, specifying the channels (1 for grayscale)\n",
        "img_tensor = tf.io.decode_image(img_raw, channels=1, dtype=tf.uint8)\n",
        "\n",
        "# Convert the image to float32 and normalize it to the range [0, 1]\n",
        "img_tensor = tf.image.convert_image_dtype(img_tensor, tf.float32)\n",
        "img_tensor = img_tensor / 103.0  # Assuming the original range is [0, 103]\n",
        "\n",
        "# Print information about the loaded image\n",
        "print(\"Image Shape:\", img_tensor.shape)\n",
        "print(\"Image Data Type:\", img_tensor.dtype)\n",
        "\n",
        "# Display the image using matplotlib or any other plotting library\n",
        "import matplotlib.pyplot as plt\n",
        "\n",
        "plt.imshow(tf.squeeze(img_tensor), cmap='gray')\n",
        "plt.show()"
      ]
    },
    {
      "cell_type": "code",
      "execution_count": null,
      "metadata": {
        "id": "Wq-HT5g8ph9E"
      },
      "outputs": [],
      "source": [
        "##model\n",
        "def convolution_block(\n",
        "    block_input,\n",
        "    num_filters=256,\n",
        "    kernel_size=3,\n",
        "    dilation_rate=1,\n",
        "    padding=\"same\",\n",
        "    use_bias=False,\n",
        "):\n",
        "    x = layers.Conv2D(\n",
        "        num_filters,\n",
        "        kernel_size=kernel_size,\n",
        "        dilation_rate=dilation_rate,\n",
        "        padding=\"same\",\n",
        "        use_bias=use_bias,\n",
        "        kernel_initializer=keras.initializers.HeNormal(),\n",
        "    )(block_input)\n",
        "    x = layers.BatchNormalization()(x)\n",
        "    return tf.nn.relu(x)\n",
        "\n",
        "\n",
        "def DilatedSpatialPyramidPooling(dspp_input):\n",
        "    dims = dspp_input.shape\n",
        "    x = layers.AveragePooling2D(pool_size=(dims[-3], dims[-2]))(dspp_input)\n",
        "    x = convolution_block(x, kernel_size=1, use_bias=True)\n",
        "    out_pool = layers.UpSampling2D(\n",
        "        size=(dims[-3] // x.shape[1], dims[-2] // x.shape[2]), interpolation=\"bilinear\",\n",
        "    )(x)\n",
        "\n",
        "    out_1 = convolution_block(dspp_input, kernel_size=1, dilation_rate=1)\n",
        "    out_6 = convolution_block(dspp_input, kernel_size=3, dilation_rate=6)\n",
        "    out_12 = convolution_block(dspp_input, kernel_size=3, dilation_rate=12)\n",
        "    out_18 = convolution_block(dspp_input, kernel_size=3, dilation_rate=18)\n",
        "\n",
        "    x = layers.Concatenate(axis=-1)([out_pool, out_1, out_6, out_12, out_18])\n",
        "    output = convolution_block(x, kernel_size=1)\n",
        "    return output\n",
        "\n",
        "def DeeplabV3Plus(image_size, num_classes):\n",
        "    model_input = keras.Input(shape=(image_size, image_size, 3))\n",
        "    resnet50 = keras.applications.ResNet50(\n",
        "        weights=\"imagenet\", include_top=False, input_tensor=model_input\n",
        "    )\n",
        "    x = resnet50.get_layer(\"conv4_block6_2_relu\").output\n",
        "    x = DilatedSpatialPyramidPooling(x)\n",
        "\n",
        "    input_a = layers.UpSampling2D(\n",
        "        size=(image_size // 4 // x.shape[1], image_size // 4 // x.shape[2]),\n",
        "        interpolation=\"bilinear\",\n",
        "    )(x)\n",
        "    input_b = resnet50.get_layer(\"conv2_block3_2_relu\").output\n",
        "    input_b = convolution_block(input_b, num_filters=48, kernel_size=1)\n",
        "\n",
        "    x = layers.Concatenate(axis=-1)([input_a, input_b])\n",
        "    x = convolution_block(x)\n",
        "    x = convolution_block(x)\n",
        "    x = layers.UpSampling2D(\n",
        "        size=(image_size // x.shape[1], image_size // x.shape[2]),\n",
        "        interpolation=\"bilinear\",\n",
        "    )(x)\n",
        "    model_output = layers.Conv2D(num_classes, kernel_size=(1, 1), padding=\"same\", kernel_initializer=keras.initializers.HeNormal())(x)\n",
        "    return keras.Model(inputs=model_input, outputs=model_output)\n",
        "\n",
        "\n",
        "def trainModel(Epochs):\n",
        "    model = DeeplabV3Plus(image_size=IMAGE_SIZE, num_classes=NUM_CLASSES)\n",
        "    model.compile(\n",
        "      optimizer=keras.optimizers.SGD(\n",
        "          learning_rate=0.002, weight_decay=0.0001, momentum=0.9, clipnorm=10.0\n",
        "      ),\n",
        "      loss=keras.losses.CategoricalCrossentropy(from_logits=False),\n",
        "      metrics=[\n",
        "          keras.metrics.MeanIoU(\n",
        "              num_classes=NUM_CLASSES, sparse_y_true=False, sparse_y_pred=False\n",
        "          ),\n",
        "          keras.metrics.CategoricalAccuracy(),\n",
        "      ],)\n",
        "    history = model.fit(train_dataset, validation_data=val_dataset, epochs=Epochs)\n",
        "    return (model, history)\n",
        "\n",
        "\n",
        "def trainNewModel(Epochs):\n",
        "    #Train new model and history\n",
        "    model = DeeplabV3Plus(image_size=IMAGE_SIZE, num_classes=NUM_CLASSES)\n",
        "    loss = keras.losses.SparseCategoricalCrossentropy(from_logits=False, ignore_class=None)\n",
        "    model.compile(\n",
        "        optimizer=keras.optimizers.Adam(learning_rate=0.002),\n",
        "        loss=loss,\n",
        "        # metrics=[keras.metrics.MeanIoU(\n",
        "        #     num_classes=NUM_CLASSES, sparse_y_true=False, sparse_y_pred=False\n",
        "        # ),\n",
        "        # keras.metrics.CategoricalAccuracy(),],\n",
        "        metrics=[tf.keras.metrics.OneHotMeanIoU(num_classes=NUM_CLASSES,ignore_class=0)],\n",
        "        # metrics=[\"accuracy\"],\n",
        "    )\n",
        "    history = model.fit(train_dataset, validation_data=val_dataset, epochs=Epochs)\n",
        "    return (model, history)\n"
      ]
    },
    {
      "cell_type": "code",
      "execution_count": null,
      "metadata": {
        "colab": {
          "base_uri": "https://localhost:8080/",
          "height": 145
        },
        "id": "DMOniNFGpRzY",
        "outputId": "9d42c41b-9348-4983-efc9-ad7829dc9e02"
      },
      "outputs": [
        {
          "ename": "IndentationError",
          "evalue": "ignored",
          "output_type": "error",
          "traceback": [
            "\u001b[0;36m  File \u001b[0;32m\"<ipython-input-7-7648ccb5ff96>\"\u001b[0;36m, line \u001b[0;32m33\u001b[0m\n\u001b[0;31m    def load_and_preprocess_data(image_path, mask_path):\u001b[0m\n\u001b[0m    ^\u001b[0m\n\u001b[0;31mIndentationError\u001b[0m\u001b[0;31m:\u001b[0m expected an indented block after function definition on line 30\n"
          ]
        }
      ],
      "source": [
        "def train_model_mean_iou(Epochs):\n",
        "    model = DeeplabV3Plus(image_size=IMAGE_SIZE, num_classes=NUM_CLASSES)\n",
        "    model.compile(\n",
        "      optimizer=keras.optimizers.SGD(\n",
        "          learning_rate=0.002, weight_decay=0.0001, momentum=0.9, clipnorm=10.0\n",
        "      ),\n",
        "      loss=keras.losses.CategoricalCrossentropy(from_logits=False),\n",
        "      metrics=[\n",
        "          keras.metrics.MeanIoU(\n",
        "              num_classes=NUM_CLASSES, sparse_y_true=False, sparse_y_pred=False\n",
        "          ),\n",
        "          keras.metrics.CategoricalAccuracy(),\n",
        "      ],)\n",
        "    history = model.fit(train_dataset, validation_data=val_dataset, epochs=Epochs)\n",
        "    return (model, history)\n",
        "\n",
        "\n",
        "## load data in new manner\n",
        "#loading array with image paths\n",
        "image_paths, mask_paths = load_images_combined(100, 10)\n",
        "\n",
        "def load_and_preprocess_image(image_path):\n",
        "    image = tf.io.read_file(image_path)\n",
        "    image = tf.image.decode_png(image, channels=3)\n",
        "    image.set_shape([None, None, 3])\n",
        "    image = tf.image.resize(images=image, size=[IMAGE_SIZE, IMAGE_SIZE])\n",
        "    image = tf.keras.applications.resnet50.preprocess_input(image)\n",
        "    return image\n",
        "\n",
        "def load_and_preprocess_mask(mask_path):\n",
        "\n",
        "\n",
        "def load_and_preprocess_data(image_path, mask_path):\n",
        "    # Load and preprocess your images and masks\n",
        "    # You may need to resize, normalize, or apply other preprocessing steps\n",
        "    image = load_and_preprocess_image(image_path)\n",
        "    mask = load_and_preprocess_mask(mask_path)\n",
        "    return image, mask\n",
        "\n",
        "# def load_and_preprocess_image(image_path):\n",
        "#     # Implement image loading and preprocessing (e.g., resizing)\n",
        "#     # Return the preprocessed image as a NumPy array\n",
        "#     return processed_image\n",
        "\n",
        "def load_and_preprocess_mask(mask_path):\n",
        "    # Implement mask loading and preprocessing (e.g., resizing)\n",
        "    # Return the preprocessed mask as a NumPy array\n",
        "    return processed_mask\n",
        "\n",
        "# Load and preprocess the data\n",
        "data = [load_and_preprocess_data(image_path, mask_path) for image_path, mask_path in zip(image_paths, mask_paths)]\n",
        "images, masks = zip(*data)"
      ]
    },
    {
      "cell_type": "code",
      "execution_count": null,
      "metadata": {
        "id": "sHFCaUa9pRSC"
      },
      "outputs": [],
      "source": []
    },
    {
      "cell_type": "code",
      "execution_count": null,
      "metadata": {
        "colab": {
          "base_uri": "https://localhost:8080/"
        },
        "id": "BIoav0kQpBvQ",
        "outputId": "fdb4c42e-2056-4482-db70-f081a8347fd7"
      },
      "outputs": [
        {
          "name": "stdout",
          "output_type": "stream",
          "text": [
            "Input the folder of the model to load (the folder should be in the models folder and include a history.npy file and a model.keras file):\n"
          ]
        }
      ],
      "source": [
        "##loading model\n",
        "def loadModel(ModelPath):\n",
        "    print(\"Input the folder of the model to load (the folder should be in the models folder and include a history.npy file and a model.keras file):\")\n",
        "    # load_name = input()\n",
        "    folder_load_path = os.path.join(models_path, Path(ModelPath))\n",
        "    his_load_path = os.path.join(folder_load_path, Path(r\"history.npy\"))\n",
        "    model_load_path = os.path.join(folder_load_path, Path(r\"model.keras\"))\n",
        "    history=np.load(his_load_path,allow_pickle='TRUE').item()\n",
        "    model = keras.models.load_model(model_load_path)\n",
        "    return (model, history)\n",
        "\n",
        "model, history = loadModel(\"Base\")"
      ]
    },
    {
      "cell_type": "code",
      "execution_count": null,
      "metadata": {
        "id": "kfxk88tYpCDw"
      },
      "outputs": [],
      "source": []
    }
  ],
  "metadata": {
    "accelerator": "GPU",
    "colab": {
      "gpuType": "T4",
      "provenance": []
    },
    "kernelspec": {
      "display_name": "Python 3",
      "name": "python3"
    },
    "language_info": {
      "codemirror_mode": {
        "name": "ipython",
        "version": 3
      },
      "file_extension": ".py",
      "mimetype": "text/x-python",
      "name": "python",
      "nbconvert_exporter": "python",
      "pygments_lexer": "ipython3",
      "version": "3.9.18"
    }
  },
  "nbformat": 4,
  "nbformat_minor": 0
}
