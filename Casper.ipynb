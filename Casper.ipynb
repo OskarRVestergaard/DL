{
 "cells": [
  {
   "cell_type": "code",
   "execution_count": 1,
   "metadata": {},
   "outputs": [
    {
     "name": "stderr",
     "output_type": "stream",
     "text": [
      "2023-12-05 23:07:05.195528: E tensorflow/compiler/xla/stream_executor/cuda/cuda_dnn.cc:9342] Unable to register cuDNN factory: Attempting to register factory for plugin cuDNN when one has already been registered\n",
      "2023-12-05 23:07:05.195685: E tensorflow/compiler/xla/stream_executor/cuda/cuda_fft.cc:609] Unable to register cuFFT factory: Attempting to register factory for plugin cuFFT when one has already been registered\n",
      "2023-12-05 23:07:05.196073: E tensorflow/compiler/xla/stream_executor/cuda/cuda_blas.cc:1518] Unable to register cuBLAS factory: Attempting to register factory for plugin cuBLAS when one has already been registered\n",
      "2023-12-05 23:07:05.273835: I tensorflow/core/platform/cpu_feature_guard.cc:182] This TensorFlow binary is optimized to use available CPU instructions in performance-critical operations.\n",
      "To enable the following instructions: AVX2 FMA, in other operations, rebuild TensorFlow with the appropriate compiler flags.\n",
      "2023-12-05 23:07:09.225326: I tensorflow/compiler/xla/stream_executor/cuda/cuda_gpu_executor.cc:880] could not open file to read NUMA node: /sys/bus/pci/devices/0000:01:00.0/numa_node\n",
      "Your kernel may have been built without NUMA support.\n",
      "2023-12-05 23:07:09.413070: I tensorflow/compiler/xla/stream_executor/cuda/cuda_gpu_executor.cc:880] could not open file to read NUMA node: /sys/bus/pci/devices/0000:01:00.0/numa_node\n",
      "Your kernel may have been built without NUMA support.\n",
      "2023-12-05 23:07:09.413147: I tensorflow/compiler/xla/stream_executor/cuda/cuda_gpu_executor.cc:880] could not open file to read NUMA node: /sys/bus/pci/devices/0000:01:00.0/numa_node\n",
      "Your kernel may have been built without NUMA support.\n",
      "2023-12-05 23:07:09.417119: I tensorflow/compiler/xla/stream_executor/cuda/cuda_gpu_executor.cc:880] could not open file to read NUMA node: /sys/bus/pci/devices/0000:01:00.0/numa_node\n",
      "Your kernel may have been built without NUMA support.\n",
      "2023-12-05 23:07:09.417168: I tensorflow/compiler/xla/stream_executor/cuda/cuda_gpu_executor.cc:880] could not open file to read NUMA node: /sys/bus/pci/devices/0000:01:00.0/numa_node\n",
      "Your kernel may have been built without NUMA support.\n",
      "2023-12-05 23:07:09.417204: I tensorflow/compiler/xla/stream_executor/cuda/cuda_gpu_executor.cc:880] could not open file to read NUMA node: /sys/bus/pci/devices/0000:01:00.0/numa_node\n",
      "Your kernel may have been built without NUMA support.\n",
      "2023-12-05 23:07:09.880510: I tensorflow/compiler/xla/stream_executor/cuda/cuda_gpu_executor.cc:880] could not open file to read NUMA node: /sys/bus/pci/devices/0000:01:00.0/numa_node\n",
      "Your kernel may have been built without NUMA support.\n",
      "2023-12-05 23:07:09.880561: I tensorflow/compiler/xla/stream_executor/cuda/cuda_gpu_executor.cc:880] could not open file to read NUMA node: /sys/bus/pci/devices/0000:01:00.0/numa_node\n",
      "Your kernel may have been built without NUMA support.\n",
      "2023-12-05 23:07:09.880569: I tensorflow/core/common_runtime/gpu/gpu_device.cc:1977] Could not identify NUMA node of platform GPU id 0, defaulting to 0.  Your kernel may not have been built with NUMA support.\n",
      "2023-12-05 23:07:09.880599: I tensorflow/compiler/xla/stream_executor/cuda/cuda_gpu_executor.cc:880] could not open file to read NUMA node: /sys/bus/pci/devices/0000:01:00.0/numa_node\n",
      "Your kernel may have been built without NUMA support.\n",
      "2023-12-05 23:07:09.880706: I tensorflow/core/common_runtime/gpu/gpu_device.cc:1886] Created device /job:localhost/replica:0/task:0/device:GPU:0 with 5595 MB memory:  -> device: 0, name: NVIDIA GeForce RTX 3070 Laptop GPU, pci bus id: 0000:01:00.0, compute capability: 8.6\n"
     ]
    }
   ],
   "source": [
    "import model_functions as mf\n",
    "from tensorflow import keras"
   ]
  },
  {
   "cell_type": "code",
   "execution_count": null,
   "metadata": {},
   "outputs": [],
   "source": [
    "model, history = mf.load_model(\"model_01122023-02:52:19\")"
   ]
  },
  {
   "cell_type": "code",
   "execution_count": 2,
   "metadata": {},
   "outputs": [
    {
     "name": "stdout",
     "output_type": "stream",
     "text": [
      "Epoch 1/200\n"
     ]
    },
    {
     "name": "stderr",
     "output_type": "stream",
     "text": [
      "2023-12-05 23:07:23.067744: I tensorflow/compiler/xla/stream_executor/cuda/cuda_dnn.cc:442] Loaded cuDNN version 8700\n",
      "2023-12-05 23:07:26.679435: I tensorflow/compiler/xla/service/service.cc:168] XLA service 0x7f2a2856b760 initialized for platform CUDA (this does not guarantee that XLA will be used). Devices:\n",
      "2023-12-05 23:07:26.679481: I tensorflow/compiler/xla/service/service.cc:176]   StreamExecutor device (0): NVIDIA GeForce RTX 3070 Laptop GPU, Compute Capability 8.6\n",
      "2023-12-05 23:07:26.689365: I tensorflow/compiler/mlir/tensorflow/utils/dump_mlir_util.cc:269] disabling MLIR crash reproducer, set env var `MLIR_CRASH_REPRODUCER_DIRECTORY` to enable.\n",
      "2023-12-05 23:07:26.780139: I ./tensorflow/compiler/jit/device_compiler.h:186] Compiled cluster using XLA!  This line is logged at most once for the lifetime of the process.\n"
     ]
    },
    {
     "name": "stdout",
     "output_type": "stream",
     "text": [
      "711/711 [==============================] - 488s 671ms/step - loss: 0.5724 - top_k_categorical_accuracy: 0.6416 - one_hot_mean_io_u: 0.0289 - categorical_accuracy: 0.4061 - val_loss: 0.4795 - val_top_k_categorical_accuracy: 0.7079 - val_one_hot_mean_io_u: 0.0288 - val_categorical_accuracy: 0.4963\n",
      "Epoch 2/200\n",
      "711/711 [==============================] - 480s 675ms/step - loss: 0.5052 - top_k_categorical_accuracy: 0.6924 - one_hot_mean_io_u: 0.0463 - categorical_accuracy: 0.4377 - val_loss: 0.4725 - val_top_k_categorical_accuracy: 0.7263 - val_one_hot_mean_io_u: 0.0420 - val_categorical_accuracy: 0.4881\n",
      "Epoch 3/200\n",
      "711/711 [==============================] - 474s 667ms/step - loss: 0.4763 - top_k_categorical_accuracy: 0.7129 - one_hot_mean_io_u: 0.0566 - categorical_accuracy: 0.4614 - val_loss: 0.4236 - val_top_k_categorical_accuracy: 0.7511 - val_one_hot_mean_io_u: 0.0496 - val_categorical_accuracy: 0.5289\n",
      "Epoch 4/200\n",
      "711/711 [==============================] - ETA: 0s - loss: 0.4586 - top_k_categorical_accuracy: 0.7299 - one_hot_mean_io_u: 0.0621 - categorical_accuracy: 0.4711"
     ]
    },
    {
     "name": "stderr",
     "output_type": "stream",
     "text": [
      "2023-12-05 23:38:37.280742: W tensorflow/core/framework/op_kernel.cc:1839] OP_REQUIRES failed at strided_slice_op.cc:117 : INVALID_ARGUMENT: slice index -1 of dimension 0 out of bounds.\n",
      "2023-12-05 23:38:37.280810: W tensorflow/core/framework/op_kernel.cc:1839] OP_REQUIRES failed at strided_slice_op.cc:117 : INVALID_ARGUMENT: Expected begin, end, and strides to be 1D equal size tensors, but got shapes [3], [2], and [2] instead.\n",
      "2023-12-05 23:38:37.290844: W tensorflow/core/framework/op_kernel.cc:1827] UNKNOWN: InvalidArgumentError: Exception encountered when calling layer 'random_crop_1' (type RandomCrop).\n",
      "\n",
      "{{function_node __wrapped__StridedSlice_device_/job:localhost/replica:0/task:0/device:GPU:0}} slice index -1 of dimension 0 out of bounds. [Op:StridedSlice] name: sequential_1/random_crop_1/strided_slice/\n",
      "\n",
      "Call arguments received by layer 'random_crop_1' (type RandomCrop):\n",
      "  • inputs=tf.Tensor(shape=(256, 256, 1), dtype=float32)\n",
      "  • training=True\n",
      "Traceback (most recent call last):\n",
      "\n",
      "  File \"/home/daniel/miniconda3/envs/dl39/lib/python3.9/site-packages/tensorflow/python/ops/script_ops.py\", line 270, in __call__\n",
      "    ret = func(*args)\n",
      "\n",
      "  File \"/home/daniel/miniconda3/envs/dl39/lib/python3.9/site-packages/tensorflow/python/autograph/impl/api.py\", line 643, in wrapper\n",
      "    return func(*args, **kwargs)\n",
      "\n",
      "  File \"/home/daniel/miniconda3/envs/dl39/lib/python3.9/site-packages/tensorflow/python/data/ops/from_generator_op.py\", line 198, in generator_py_func\n",
      "    values = next(generator_state.get_iterator(iterator_id))\n",
      "\n",
      "  File \"/home/daniel/miniconda3/envs/dl39/lib/python3.9/site-packages/keras/src/engine/data_adapter.py\", line 917, in wrapped_generator\n",
      "    for data in generator_fn():\n",
      "\n",
      "  File \"/home/daniel/miniconda3/envs/dl39/lib/python3.9/site-packages/keras/src/engine/data_adapter.py\", line 1064, in generator_fn\n",
      "    yield x[i]\n",
      "\n",
      "  File \"/home/daniel/DL/background_model_functions.py\", line 103, in __getitem__\n",
      "    batch_x, batch_y = self.load_data(start, end)\n",
      "\n",
      "  File \"/home/daniel/DL/background_model_functions.py\", line 126, in load_data\n",
      "    mask = self.mask_augment(mask)\n",
      "\n",
      "  File \"/home/daniel/miniconda3/envs/dl39/lib/python3.9/site-packages/keras/src/utils/traceback_utils.py\", line 70, in error_handler\n",
      "    raise e.with_traceback(filtered_tb) from None\n",
      "\n",
      "  File \"/home/daniel/miniconda3/envs/dl39/lib/python3.9/site-packages/tensorflow/python/framework/ops.py\", line 5888, in raise_from_not_ok_status\n",
      "    raise core._status_to_exception(e) from None  # pylint: disable=protected-access\n",
      "\n",
      "tensorflow.python.framework.errors_impl.InvalidArgumentError: Exception encountered when calling layer 'random_crop_1' (type RandomCrop).\n",
      "\n",
      "{{function_node __wrapped__StridedSlice_device_/job:localhost/replica:0/task:0/device:GPU:0}} slice index -1 of dimension 0 out of bounds. [Op:StridedSlice] name: sequential_1/random_crop_1/strided_slice/\n",
      "\n",
      "Call arguments received by layer 'random_crop_1' (type RandomCrop):\n",
      "  • inputs=tf.Tensor(shape=(256, 256, 1), dtype=float32)\n",
      "  • training=True\n",
      "\n",
      "\n",
      "2023-12-05 23:38:37.291791: W tensorflow/core/framework/op_kernel.cc:1827] UNKNOWN: InvalidArgumentError: {{function_node __wrapped__StridedSlice_device_/job:localhost/replica:0/task:0/device:GPU:0}} Expected begin, end, and strides to be 1D equal size tensors, but got shapes [3], [2], and [2] instead. [Op:StridedSlice] name: strided_slice/\n",
      "Traceback (most recent call last):\n",
      "\n",
      "  File \"/home/daniel/miniconda3/envs/dl39/lib/python3.9/site-packages/tensorflow/python/ops/script_ops.py\", line 270, in __call__\n",
      "    ret = func(*args)\n",
      "\n",
      "  File \"/home/daniel/miniconda3/envs/dl39/lib/python3.9/site-packages/tensorflow/python/autograph/impl/api.py\", line 643, in wrapper\n",
      "    return func(*args, **kwargs)\n",
      "\n",
      "  File \"/home/daniel/miniconda3/envs/dl39/lib/python3.9/site-packages/tensorflow/python/data/ops/from_generator_op.py\", line 198, in generator_py_func\n",
      "    values = next(generator_state.get_iterator(iterator_id))\n",
      "\n",
      "  File \"/home/daniel/miniconda3/envs/dl39/lib/python3.9/site-packages/keras/src/engine/data_adapter.py\", line 917, in wrapped_generator\n",
      "    for data in generator_fn():\n",
      "\n",
      "  File \"/home/daniel/miniconda3/envs/dl39/lib/python3.9/site-packages/keras/src/engine/data_adapter.py\", line 1064, in generator_fn\n",
      "    yield x[i]\n",
      "\n",
      "  File \"/home/daniel/DL/background_model_functions.py\", line 103, in __getitem__\n",
      "    batch_x, batch_y = self.load_data(start, end)\n",
      "\n",
      "  File \"/home/daniel/DL/background_model_functions.py\", line 120, in load_data\n",
      "    img = tf.keras.applications.resnet50.preprocess_input(img)\n",
      "\n",
      "  File \"/home/daniel/miniconda3/envs/dl39/lib/python3.9/site-packages/keras/src/applications/resnet.py\", line 611, in preprocess_input\n",
      "    return imagenet_utils.preprocess_input(\n",
      "\n",
      "  File \"/home/daniel/miniconda3/envs/dl39/lib/python3.9/site-packages/keras/src/applications/imagenet_utils.py\", line 124, in preprocess_input\n",
      "    return _preprocess_symbolic_input(x, data_format=data_format, mode=mode)\n",
      "\n",
      "  File \"/home/daniel/miniconda3/envs/dl39/lib/python3.9/site-packages/keras/src/applications/imagenet_utils.py\", line 288, in _preprocess_symbolic_input\n",
      "    x = x[..., ::-1]\n",
      "\n",
      "  File \"/home/daniel/miniconda3/envs/dl39/lib/python3.9/site-packages/tensorflow/python/util/traceback_utils.py\", line 153, in error_handler\n",
      "    raise e.with_traceback(filtered_tb) from None\n",
      "\n",
      "  File \"/home/daniel/miniconda3/envs/dl39/lib/python3.9/site-packages/tensorflow/python/framework/ops.py\", line 5888, in raise_from_not_ok_status\n",
      "    raise core._status_to_exception(e) from None  # pylint: disable=protected-access\n",
      "\n",
      "tensorflow.python.framework.errors_impl.InvalidArgumentError: {{function_node __wrapped__StridedSlice_device_/job:localhost/replica:0/task:0/device:GPU:0}} Expected begin, end, and strides to be 1D equal size tensors, but got shapes [3], [2], and [2] instead. [Op:StridedSlice] name: strided_slice/\n",
      "\n",
      "\n",
      "2023-12-05 23:38:37.292003: I tensorflow/core/framework/local_rendezvous.cc:421] Local rendezvous recv item cancelled. Key hash: 15566398519764091575\n",
      "2023-12-05 23:38:37.292038: I tensorflow/core/framework/local_rendezvous.cc:421] Local rendezvous recv item cancelled. Key hash: 13954020592040035973\n",
      "2023-12-05 23:38:37.292048: I tensorflow/core/framework/local_rendezvous.cc:421] Local rendezvous recv item cancelled. Key hash: 535874687921448757\n",
      "2023-12-05 23:38:37.292056: I tensorflow/core/framework/local_rendezvous.cc:421] Local rendezvous recv item cancelled. Key hash: 15394567594484041601\n",
      "2023-12-05 23:38:37.292062: I tensorflow/core/framework/local_rendezvous.cc:421] Local rendezvous recv item cancelled. Key hash: 15059886270934411469\n",
      "2023-12-05 23:38:37.292069: I tensorflow/core/framework/local_rendezvous.cc:421] Local rendezvous recv item cancelled. Key hash: 17234965194042403581\n",
      "2023-12-05 23:38:37.292075: I tensorflow/core/framework/local_rendezvous.cc:421] Local rendezvous recv item cancelled. Key hash: 6556736720931498705\n",
      "2023-12-05 23:38:37.292081: I tensorflow/core/framework/local_rendezvous.cc:421] Local rendezvous recv item cancelled. Key hash: 11981625180887402317\n",
      "2023-12-05 23:38:37.292087: I tensorflow/core/framework/local_rendezvous.cc:421] Local rendezvous recv item cancelled. Key hash: 1293447450890850425\n",
      "2023-12-05 23:38:37.292093: I tensorflow/core/framework/local_rendezvous.cc:421] Local rendezvous recv item cancelled. Key hash: 1270539867168092975\n",
      "2023-12-05 23:38:37.292099: I tensorflow/core/framework/local_rendezvous.cc:421] Local rendezvous recv item cancelled. Key hash: 7848041774329531093\n",
      "2023-12-05 23:38:37.292104: I tensorflow/core/framework/local_rendezvous.cc:421] Local rendezvous recv item cancelled. Key hash: 3921291324509894115\n",
      "2023-12-05 23:38:37.292109: I tensorflow/core/framework/local_rendezvous.cc:421] Local rendezvous recv item cancelled. Key hash: 12475599896006688393\n",
      "2023-12-05 23:38:37.292116: I tensorflow/core/framework/local_rendezvous.cc:421] Local rendezvous recv item cancelled. Key hash: 7291557989087838428\n",
      "2023-12-05 23:38:37.292121: I tensorflow/core/framework/local_rendezvous.cc:421] Local rendezvous recv item cancelled. Key hash: 12622391745796922806\n",
      "2023-12-05 23:38:37.292127: I tensorflow/core/framework/local_rendezvous.cc:421] Local rendezvous recv item cancelled. Key hash: 13112174885828998822\n",
      "2023-12-05 23:38:37.292132: I tensorflow/core/framework/local_rendezvous.cc:421] Local rendezvous recv item cancelled. Key hash: 4537585239424600504\n",
      "2023-12-05 23:38:37.292138: I tensorflow/core/framework/local_rendezvous.cc:421] Local rendezvous recv item cancelled. Key hash: 14153798755567062014\n",
      "2023-12-05 23:38:37.292143: I tensorflow/core/framework/local_rendezvous.cc:421] Local rendezvous recv item cancelled. Key hash: 5547624320398916610\n",
      "2023-12-05 23:38:37.292148: I tensorflow/core/framework/local_rendezvous.cc:421] Local rendezvous recv item cancelled. Key hash: 8700010754450517500\n",
      "2023-12-05 23:38:37.292197: I tensorflow/core/framework/local_rendezvous.cc:421] Local rendezvous recv item cancelled. Key hash: 14110867335792967308\n"
     ]
    },
    {
     "ename": "UnknownError",
     "evalue": "Graph execution error:\n\nDetected at node PyFunc defined at (most recent call last):\n<stack traces unavailable>\nDetected at node PyFunc defined at (most recent call last):\n<stack traces unavailable>\n2 root error(s) found.\n  (0) UNKNOWN:  InvalidArgumentError: {{function_node __wrapped__StridedSlice_device_/job:localhost/replica:0/task:0/device:GPU:0}} Expected begin, end, and strides to be 1D equal size tensors, but got shapes [3], [2], and [2] instead. [Op:StridedSlice] name: strided_slice/\nTraceback (most recent call last):\n\n  File \"/home/daniel/miniconda3/envs/dl39/lib/python3.9/site-packages/tensorflow/python/ops/script_ops.py\", line 270, in __call__\n    ret = func(*args)\n\n  File \"/home/daniel/miniconda3/envs/dl39/lib/python3.9/site-packages/tensorflow/python/autograph/impl/api.py\", line 643, in wrapper\n    return func(*args, **kwargs)\n\n  File \"/home/daniel/miniconda3/envs/dl39/lib/python3.9/site-packages/tensorflow/python/data/ops/from_generator_op.py\", line 198, in generator_py_func\n    values = next(generator_state.get_iterator(iterator_id))\n\n  File \"/home/daniel/miniconda3/envs/dl39/lib/python3.9/site-packages/keras/src/engine/data_adapter.py\", line 917, in wrapped_generator\n    for data in generator_fn():\n\n  File \"/home/daniel/miniconda3/envs/dl39/lib/python3.9/site-packages/keras/src/engine/data_adapter.py\", line 1064, in generator_fn\n    yield x[i]\n\n  File \"/home/daniel/DL/background_model_functions.py\", line 103, in __getitem__\n    batch_x, batch_y = self.load_data(start, end)\n\n  File \"/home/daniel/DL/background_model_functions.py\", line 120, in load_data\n    img = tf.keras.applications.resnet50.preprocess_input(img)\n\n  File \"/home/daniel/miniconda3/envs/dl39/lib/python3.9/site-packages/keras/src/applications/resnet.py\", line 611, in preprocess_input\n    return imagenet_utils.preprocess_input(\n\n  File \"/home/daniel/miniconda3/envs/dl39/lib/python3.9/site-packages/keras/src/applications/imagenet_utils.py\", line 124, in preprocess_input\n    return _preprocess_symbolic_input(x, data_format=data_format, mode=mode)\n\n  File \"/home/daniel/miniconda3/envs/dl39/lib/python3.9/site-packages/keras/src/applications/imagenet_utils.py\", line 288, in _preprocess_symbolic_input\n    x = x[..., ::-1]\n\n  File \"/home/daniel/miniconda3/envs/dl39/lib/python3.9/site-packages/tensorflow/python/util/traceback_utils.py\", line 153, in error_handler\n    raise e.with_traceback(filtered_tb) from None\n\n  File \"/home/daniel/miniconda3/envs/dl39/lib/python3.9/site-packages/tensorflow/python/framework/ops.py\", line 5888, in raise_from_not_ok_status\n    raise core._status_to_exception(e) from None  # pylint: disable=protected-access\n\ntensorflow.python.framework.errors_impl.InvalidArgumentError: {{function_node __wrapped__StridedSlice_device_/job:localhost/replica:0/task:0/device:GPU:0}} Expected begin, end, and strides to be 1D equal size tensors, but got shapes [3], [2], and [2] instead. [Op:StridedSlice] name: strided_slice/\n\n\n\t [[{{node PyFunc}}]]\n\t [[IteratorGetNext]]\n\t [[confusion_matrix/assert_less/Assert/AssertGuard/else/_19/confusion_matrix/assert_less/Assert/AssertGuard/Assert/data_1/_64]]\n  (1) UNKNOWN:  InvalidArgumentError: {{function_node __wrapped__StridedSlice_device_/job:localhost/replica:0/task:0/device:GPU:0}} Expected begin, end, and strides to be 1D equal size tensors, but got shapes [3], [2], and [2] instead. [Op:StridedSlice] name: strided_slice/\nTraceback (most recent call last):\n\n  File \"/home/daniel/miniconda3/envs/dl39/lib/python3.9/site-packages/tensorflow/python/ops/script_ops.py\", line 270, in __call__\n    ret = func(*args)\n\n  File \"/home/daniel/miniconda3/envs/dl39/lib/python3.9/site-packages/tensorflow/python/autograph/impl/api.py\", line 643, in wrapper\n    return func(*args, **kwargs)\n\n  File \"/home/daniel/miniconda3/envs/dl39/lib/python3.9/site-packages/tensorflow/python/data/ops/from_generator_op.py\", line 198, in generator_py_func\n    values = next(generator_state.get_iterator(iterator_id))\n\n  File \"/home/daniel/miniconda3/envs/dl39/lib/python3.9/site-packages/keras/src/engine/data_adapter.py\", line 917, in wrapped_generator\n    for data in generator_fn():\n\n  File \"/home/daniel/miniconda3/envs/dl39/lib/python3.9/site-packages/keras/src/engine/data_adapter.py\", line 1064, in generator_fn\n    yield x[i]\n\n  File \"/home/daniel/DL/background_model_functions.py\", line 103, in __getitem__\n    batch_x, batch_y = self.load_data(start, end)\n\n  File \"/home/daniel/DL/background_model_functions.py\", line 120, in load_data\n    img = tf.keras.applications.resnet50.preprocess_input(img)\n\n  File \"/home/daniel/miniconda3/envs/dl39/lib/python3.9/site-packages/keras/src/applications/resnet.py\", line 611, in preprocess_input\n    return imagenet_utils.preprocess_input(\n\n  File \"/home/daniel/miniconda3/envs/dl39/lib/python3.9/site-packages/keras/src/applications/imagenet_utils.py\", line 124, in preprocess_input\n    return _preprocess_symbolic_input(x, data_format=data_format, mode=mode)\n\n  File \"/home/daniel/miniconda3/envs/dl39/lib/python3.9/site-packages/keras/src/applications/imagenet_utils.py\", line 288, in _preprocess_symbolic_input\n    x = x[..., ::-1]\n\n  File \"/home/daniel/miniconda3/envs/dl39/lib/python3.9/site-packages/tensorflow/python/util/traceback_utils.py\", line 153, in error_handler\n    raise e.with_traceback(filtered_tb) from None\n\n  File \"/home/daniel/miniconda3/envs/dl39/lib/python3.9/site-packages/tensorflow/python/framework/ops.py\", line 5888, in raise_from_not_ok_status\n    raise core._status_to_exception(e) from None  # pylint: disable=protected-access\n\ntensorflow.python.framework.errors_impl.InvalidArgumentError: {{function_node __wrapped__StridedSlice_device_/job:localhost/replica:0/task:0/device:GPU:0}} Expected begin, end, and strides to be 1D equal size tensors, but got shapes [3], [2], and [2] instead. [Op:StridedSlice] name: strided_slice/\n\n\n\t [[{{node PyFunc}}]]\n\t [[IteratorGetNext]]\n0 successful operations.\n0 derived errors ignored. [Op:__inference_test_function_3339671]",
     "output_type": "error",
     "traceback": [
      "\u001b[0;31m---------------------------------------------------------------------------\u001b[0m",
      "\u001b[0;31mUnknownError\u001b[0m                              Traceback (most recent call last)",
      "\u001b[1;32m/home/daniel/DL/Casper.ipynb Cell 3\u001b[0m line \u001b[0;36m1\n\u001b[0;32m----> <a href='vscode-notebook-cell://wsl%2Bubuntu-22.04/home/daniel/DL/Casper.ipynb#W2sdnNjb2RlLXJlbW90ZQ%3D%3D?line=0'>1</a>\u001b[0m model, history, history_fine_tuned \u001b[39m=\u001b[39m mf\u001b[39m.\u001b[39;49mtrain_new_model_fine_tuning(\n\u001b[1;32m      <a href='vscode-notebook-cell://wsl%2Bubuntu-22.04/home/daniel/DL/Casper.ipynb#W2sdnNjb2RlLXJlbW90ZQ%3D%3D?line=1'>2</a>\u001b[0m     \u001b[39m200\u001b[39;49m, \n\u001b[1;32m      <a href='vscode-notebook-cell://wsl%2Bubuntu-22.04/home/daniel/DL/Casper.ipynb#W2sdnNjb2RlLXJlbW90ZQ%3D%3D?line=2'>3</a>\u001b[0m     data_augmentation_config\u001b[39m=\u001b[39;49mmf\u001b[39m.\u001b[39;49mcreate_data_augmentation_config_crop(), \n\u001b[1;32m      <a href='vscode-notebook-cell://wsl%2Bubuntu-22.04/home/daniel/DL/Casper.ipynb#W2sdnNjb2RlLXJlbW90ZQ%3D%3D?line=3'>4</a>\u001b[0m     brightness_contrast_augmentation_config\u001b[39m=\u001b[39;49mmf\u001b[39m.\u001b[39;49mcreate_brightness_contrast_augmentation_config(),\n\u001b[1;32m      <a href='vscode-notebook-cell://wsl%2Bubuntu-22.04/home/daniel/DL/Casper.ipynb#W2sdnNjb2RlLXJlbW90ZQ%3D%3D?line=4'>5</a>\u001b[0m     loss\u001b[39m=\u001b[39;49mkeras\u001b[39m.\u001b[39;49mlosses\u001b[39m.\u001b[39;49mCategoricalFocalCrossentropy(from_logits\u001b[39m=\u001b[39;49m\u001b[39mFalse\u001b[39;49;00m), \n\u001b[1;32m      <a href='vscode-notebook-cell://wsl%2Bubuntu-22.04/home/daniel/DL/Casper.ipynb#W2sdnNjb2RlLXJlbW90ZQ%3D%3D?line=5'>6</a>\u001b[0m     optimizer2\u001b[39m=\u001b[39;49mkeras\u001b[39m.\u001b[39;49moptimizers\u001b[39m.\u001b[39;49mAdam(learning_rate\u001b[39m=\u001b[39;49m\u001b[39m0.001\u001b[39;49m, weight_decay\u001b[39m=\u001b[39;49m\u001b[39m0.0001\u001b[39;49m)\n\u001b[1;32m      <a href='vscode-notebook-cell://wsl%2Bubuntu-22.04/home/daniel/DL/Casper.ipynb#W2sdnNjb2RlLXJlbW90ZQ%3D%3D?line=6'>7</a>\u001b[0m )\n",
      "File \u001b[0;32m~/DL/model_functions.py:200\u001b[0m, in \u001b[0;36mtrain_new_model_fine_tuning\u001b[0;34m(epochs, useEarlyStopping, loss, optimizer2, data_augmentation_config, brightness_contrast_augmentation_config)\u001b[0m\n\u001b[1;32m    187\u001b[0m \u001b[39m####\u001b[39;00m\n\u001b[1;32m    190\u001b[0m model\u001b[39m.\u001b[39mcompile(\n\u001b[1;32m    191\u001b[0m     optimizer\u001b[39m=\u001b[39moptimizer2,\n\u001b[1;32m    192\u001b[0m     loss\u001b[39m=\u001b[39mloss,\n\u001b[0;32m   (...)\u001b[0m\n\u001b[1;32m    197\u001b[0m     ],\n\u001b[1;32m    198\u001b[0m )\n\u001b[0;32m--> 200\u001b[0m history \u001b[39m=\u001b[39m model\u001b[39m.\u001b[39;49mfit(\n\u001b[1;32m    201\u001b[0m     train_data_generator,\n\u001b[1;32m    202\u001b[0m     steps_per_epoch\u001b[39m=\u001b[39;49m\u001b[39mlen\u001b[39;49m(train_image_paths) \u001b[39m/\u001b[39;49m\u001b[39m/\u001b[39;49m batch_size,\n\u001b[1;32m    203\u001b[0m     validation_data\u001b[39m=\u001b[39;49mval_data_generator,\n\u001b[1;32m    204\u001b[0m     validation_steps\u001b[39m=\u001b[39;49m\u001b[39mlen\u001b[39;49m(val_image_paths) \u001b[39m/\u001b[39;49m\u001b[39m/\u001b[39;49m batch_size,\n\u001b[1;32m    205\u001b[0m     epochs\u001b[39m=\u001b[39;49m\u001b[39m200\u001b[39;49m,\n\u001b[1;32m    206\u001b[0m     callbacks\u001b[39m=\u001b[39;49m([early_stopping] \u001b[39mif\u001b[39;49;00m useEarlyStopping \u001b[39melse\u001b[39;49;00m []),\n\u001b[1;32m    207\u001b[0m )\n\u001b[1;32m    209\u001b[0m \u001b[39m# FINE TUNING\u001b[39;00m\n\u001b[1;32m    210\u001b[0m resnet50\u001b[39m.\u001b[39mtrainable \u001b[39m=\u001b[39m \u001b[39mTrue\u001b[39;00m\n",
      "File \u001b[0;32m~/miniconda3/envs/dl39/lib/python3.9/site-packages/keras/src/utils/traceback_utils.py:70\u001b[0m, in \u001b[0;36mfilter_traceback.<locals>.error_handler\u001b[0;34m(*args, **kwargs)\u001b[0m\n\u001b[1;32m     67\u001b[0m     filtered_tb \u001b[39m=\u001b[39m _process_traceback_frames(e\u001b[39m.\u001b[39m__traceback__)\n\u001b[1;32m     68\u001b[0m     \u001b[39m# To get the full stack trace, call:\u001b[39;00m\n\u001b[1;32m     69\u001b[0m     \u001b[39m# `tf.debugging.disable_traceback_filtering()`\u001b[39;00m\n\u001b[0;32m---> 70\u001b[0m     \u001b[39mraise\u001b[39;00m e\u001b[39m.\u001b[39mwith_traceback(filtered_tb) \u001b[39mfrom\u001b[39;00m \u001b[39mNone\u001b[39;00m\n\u001b[1;32m     71\u001b[0m \u001b[39mfinally\u001b[39;00m:\n\u001b[1;32m     72\u001b[0m     \u001b[39mdel\u001b[39;00m filtered_tb\n",
      "File \u001b[0;32m~/miniconda3/envs/dl39/lib/python3.9/site-packages/tensorflow/python/eager/execute.py:60\u001b[0m, in \u001b[0;36mquick_execute\u001b[0;34m(op_name, num_outputs, inputs, attrs, ctx, name)\u001b[0m\n\u001b[1;32m     53\u001b[0m   \u001b[39m# Convert any objects of type core_types.Tensor to Tensor.\u001b[39;00m\n\u001b[1;32m     54\u001b[0m   inputs \u001b[39m=\u001b[39m [\n\u001b[1;32m     55\u001b[0m       tensor_conversion_registry\u001b[39m.\u001b[39mconvert(t)\n\u001b[1;32m     56\u001b[0m       \u001b[39mif\u001b[39;00m \u001b[39misinstance\u001b[39m(t, core_types\u001b[39m.\u001b[39mTensor)\n\u001b[1;32m     57\u001b[0m       \u001b[39melse\u001b[39;00m t\n\u001b[1;32m     58\u001b[0m       \u001b[39mfor\u001b[39;00m t \u001b[39min\u001b[39;00m inputs\n\u001b[1;32m     59\u001b[0m   ]\n\u001b[0;32m---> 60\u001b[0m   tensors \u001b[39m=\u001b[39m pywrap_tfe\u001b[39m.\u001b[39mTFE_Py_Execute(ctx\u001b[39m.\u001b[39m_handle, device_name, op_name,\n\u001b[1;32m     61\u001b[0m                                       inputs, attrs, num_outputs)\n\u001b[1;32m     62\u001b[0m \u001b[39mexcept\u001b[39;00m core\u001b[39m.\u001b[39m_NotOkStatusException \u001b[39mas\u001b[39;00m e:\n\u001b[1;32m     63\u001b[0m   \u001b[39mif\u001b[39;00m name \u001b[39mis\u001b[39;00m \u001b[39mnot\u001b[39;00m \u001b[39mNone\u001b[39;00m:\n",
      "\u001b[0;31mUnknownError\u001b[0m: Graph execution error:\n\nDetected at node PyFunc defined at (most recent call last):\n<stack traces unavailable>\nDetected at node PyFunc defined at (most recent call last):\n<stack traces unavailable>\n2 root error(s) found.\n  (0) UNKNOWN:  InvalidArgumentError: {{function_node __wrapped__StridedSlice_device_/job:localhost/replica:0/task:0/device:GPU:0}} Expected begin, end, and strides to be 1D equal size tensors, but got shapes [3], [2], and [2] instead. [Op:StridedSlice] name: strided_slice/\nTraceback (most recent call last):\n\n  File \"/home/daniel/miniconda3/envs/dl39/lib/python3.9/site-packages/tensorflow/python/ops/script_ops.py\", line 270, in __call__\n    ret = func(*args)\n\n  File \"/home/daniel/miniconda3/envs/dl39/lib/python3.9/site-packages/tensorflow/python/autograph/impl/api.py\", line 643, in wrapper\n    return func(*args, **kwargs)\n\n  File \"/home/daniel/miniconda3/envs/dl39/lib/python3.9/site-packages/tensorflow/python/data/ops/from_generator_op.py\", line 198, in generator_py_func\n    values = next(generator_state.get_iterator(iterator_id))\n\n  File \"/home/daniel/miniconda3/envs/dl39/lib/python3.9/site-packages/keras/src/engine/data_adapter.py\", line 917, in wrapped_generator\n    for data in generator_fn():\n\n  File \"/home/daniel/miniconda3/envs/dl39/lib/python3.9/site-packages/keras/src/engine/data_adapter.py\", line 1064, in generator_fn\n    yield x[i]\n\n  File \"/home/daniel/DL/background_model_functions.py\", line 103, in __getitem__\n    batch_x, batch_y = self.load_data(start, end)\n\n  File \"/home/daniel/DL/background_model_functions.py\", line 120, in load_data\n    img = tf.keras.applications.resnet50.preprocess_input(img)\n\n  File \"/home/daniel/miniconda3/envs/dl39/lib/python3.9/site-packages/keras/src/applications/resnet.py\", line 611, in preprocess_input\n    return imagenet_utils.preprocess_input(\n\n  File \"/home/daniel/miniconda3/envs/dl39/lib/python3.9/site-packages/keras/src/applications/imagenet_utils.py\", line 124, in preprocess_input\n    return _preprocess_symbolic_input(x, data_format=data_format, mode=mode)\n\n  File \"/home/daniel/miniconda3/envs/dl39/lib/python3.9/site-packages/keras/src/applications/imagenet_utils.py\", line 288, in _preprocess_symbolic_input\n    x = x[..., ::-1]\n\n  File \"/home/daniel/miniconda3/envs/dl39/lib/python3.9/site-packages/tensorflow/python/util/traceback_utils.py\", line 153, in error_handler\n    raise e.with_traceback(filtered_tb) from None\n\n  File \"/home/daniel/miniconda3/envs/dl39/lib/python3.9/site-packages/tensorflow/python/framework/ops.py\", line 5888, in raise_from_not_ok_status\n    raise core._status_to_exception(e) from None  # pylint: disable=protected-access\n\ntensorflow.python.framework.errors_impl.InvalidArgumentError: {{function_node __wrapped__StridedSlice_device_/job:localhost/replica:0/task:0/device:GPU:0}} Expected begin, end, and strides to be 1D equal size tensors, but got shapes [3], [2], and [2] instead. [Op:StridedSlice] name: strided_slice/\n\n\n\t [[{{node PyFunc}}]]\n\t [[IteratorGetNext]]\n\t [[confusion_matrix/assert_less/Assert/AssertGuard/else/_19/confusion_matrix/assert_less/Assert/AssertGuard/Assert/data_1/_64]]\n  (1) UNKNOWN:  InvalidArgumentError: {{function_node __wrapped__StridedSlice_device_/job:localhost/replica:0/task:0/device:GPU:0}} Expected begin, end, and strides to be 1D equal size tensors, but got shapes [3], [2], and [2] instead. [Op:StridedSlice] name: strided_slice/\nTraceback (most recent call last):\n\n  File \"/home/daniel/miniconda3/envs/dl39/lib/python3.9/site-packages/tensorflow/python/ops/script_ops.py\", line 270, in __call__\n    ret = func(*args)\n\n  File \"/home/daniel/miniconda3/envs/dl39/lib/python3.9/site-packages/tensorflow/python/autograph/impl/api.py\", line 643, in wrapper\n    return func(*args, **kwargs)\n\n  File \"/home/daniel/miniconda3/envs/dl39/lib/python3.9/site-packages/tensorflow/python/data/ops/from_generator_op.py\", line 198, in generator_py_func\n    values = next(generator_state.get_iterator(iterator_id))\n\n  File \"/home/daniel/miniconda3/envs/dl39/lib/python3.9/site-packages/keras/src/engine/data_adapter.py\", line 917, in wrapped_generator\n    for data in generator_fn():\n\n  File \"/home/daniel/miniconda3/envs/dl39/lib/python3.9/site-packages/keras/src/engine/data_adapter.py\", line 1064, in generator_fn\n    yield x[i]\n\n  File \"/home/daniel/DL/background_model_functions.py\", line 103, in __getitem__\n    batch_x, batch_y = self.load_data(start, end)\n\n  File \"/home/daniel/DL/background_model_functions.py\", line 120, in load_data\n    img = tf.keras.applications.resnet50.preprocess_input(img)\n\n  File \"/home/daniel/miniconda3/envs/dl39/lib/python3.9/site-packages/keras/src/applications/resnet.py\", line 611, in preprocess_input\n    return imagenet_utils.preprocess_input(\n\n  File \"/home/daniel/miniconda3/envs/dl39/lib/python3.9/site-packages/keras/src/applications/imagenet_utils.py\", line 124, in preprocess_input\n    return _preprocess_symbolic_input(x, data_format=data_format, mode=mode)\n\n  File \"/home/daniel/miniconda3/envs/dl39/lib/python3.9/site-packages/keras/src/applications/imagenet_utils.py\", line 288, in _preprocess_symbolic_input\n    x = x[..., ::-1]\n\n  File \"/home/daniel/miniconda3/envs/dl39/lib/python3.9/site-packages/tensorflow/python/util/traceback_utils.py\", line 153, in error_handler\n    raise e.with_traceback(filtered_tb) from None\n\n  File \"/home/daniel/miniconda3/envs/dl39/lib/python3.9/site-packages/tensorflow/python/framework/ops.py\", line 5888, in raise_from_not_ok_status\n    raise core._status_to_exception(e) from None  # pylint: disable=protected-access\n\ntensorflow.python.framework.errors_impl.InvalidArgumentError: {{function_node __wrapped__StridedSlice_device_/job:localhost/replica:0/task:0/device:GPU:0}} Expected begin, end, and strides to be 1D equal size tensors, but got shapes [3], [2], and [2] instead. [Op:StridedSlice] name: strided_slice/\n\n\n\t [[{{node PyFunc}}]]\n\t [[IteratorGetNext]]\n0 successful operations.\n0 derived errors ignored. [Op:__inference_test_function_3339671]"
     ]
    }
   ],
   "source": [
    "model, history, history_fine_tuned = mf.train_new_model_fine_tuning(\n",
    "    200, \n",
    "    data_augmentation_config=mf.create_data_augmentation_config(), \n",
    "    brightness_contrast_augmentation_config=mf.create_brightness_contrast_augmentation_config(),\n",
    "    loss=keras.losses.CategoricalFocalCrossentropy(from_logits=False), \n",
    "    optimizer2=keras.optimizers.Adam(learning_rate=0.001, weight_decay=0.0001)\n",
    ")"
   ]
  },
  {
   "cell_type": "code",
   "execution_count": null,
   "metadata": {},
   "outputs": [],
   "source": [
    "mf.save_model(model, history)"
   ]
  },
  {
   "cell_type": "code",
   "execution_count": null,
   "metadata": {},
   "outputs": [],
   "source": [
    "mf.save_model(model, history_fine_tuned)"
   ]
  }
 ],
 "metadata": {
  "kernelspec": {
   "display_name": "dl39",
   "language": "python",
   "name": "python3"
  },
  "language_info": {
   "codemirror_mode": {
    "name": "ipython",
    "version": 3
   },
   "file_extension": ".py",
   "mimetype": "text/x-python",
   "name": "python",
   "nbconvert_exporter": "python",
   "pygments_lexer": "ipython3",
   "version": "3.9.18"
  }
 },
 "nbformat": 4,
 "nbformat_minor": 2
}
